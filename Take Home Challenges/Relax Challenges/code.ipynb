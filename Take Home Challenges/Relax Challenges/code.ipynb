{
 "cells": [
  {
   "cell_type": "code",
   "execution_count": 1,
   "metadata": {},
   "outputs": [],
   "source": [
    "import pandas as pd\n",
    "import numpy as np\n",
    "import seaborn as sns\n",
    "import matplotlib.pyplot as plt"
   ]
  },
  {
   "cell_type": "code",
   "execution_count": 2,
   "metadata": {},
   "outputs": [],
   "source": [
    "user_enga =  pd.read_csv('takehome_user_engagement.csv')"
   ]
  },
  {
   "cell_type": "code",
   "execution_count": 3,
   "metadata": {},
   "outputs": [],
   "source": [
    "users = pd.read_csv('takehome_users.csv', encoding='latin-1')"
   ]
  },
  {
   "cell_type": "code",
   "execution_count": 4,
   "metadata": {},
   "outputs": [],
   "source": [
    "user_enga['time_stamp'] = pd.to_datetime(user_enga.time_stamp)"
   ]
  },
  {
   "cell_type": "markdown",
   "metadata": {},
   "source": [
    "**Findig the adopted user**"
   ]
  },
  {
   "cell_type": "code",
   "execution_count": 5,
   "metadata": {},
   "outputs": [],
   "source": [
    "user_enga['date'] = user_enga['time_stamp'].dt.normalize()\n",
    "user_enga = user_enga.sort_values(by='date')\n",
    "dates = user_enga.groupby('user_id').date.unique().reset_index()\n",
    "dates['adopted'] = 0\n",
    "for ind, row in dates.iterrows():\n",
    "    days = row['date']\n",
    "    for d1, d3 in zip(days[:-2], days[2:]):\n",
    "        if ((d3 - d1) < np.timedelta64(7, 'D')):\n",
    "            dates.at[ind, 'adopted'] = 1\n",
    "            break"
   ]
  },
  {
   "cell_type": "markdown",
   "metadata": {},
   "source": [
    "**Merging the two dataframes**"
   ]
  },
  {
   "cell_type": "code",
   "execution_count": 6,
   "metadata": {},
   "outputs": [],
   "source": [
    "users = pd.merge(users, dates[['user_id','adopted']], left_on='object_id',\n",
    "                 right_on='user_id', how='left')"
   ]
  },
  {
   "cell_type": "markdown",
   "metadata": {},
   "source": [
    "The users who never logged in are assumed non adopted as well."
   ]
  },
  {
   "cell_type": "code",
   "execution_count": 7,
   "metadata": {},
   "outputs": [],
   "source": [
    "users.at[users.adopted.isna(), 'adopted'] = 0"
   ]
  },
  {
   "cell_type": "code",
   "execution_count": 8,
   "metadata": {},
   "outputs": [],
   "source": [
    "users['adopted'] = users['adopted'].astype('int')"
   ]
  },
  {
   "cell_type": "code",
   "execution_count": 9,
   "metadata": {},
   "outputs": [
    {
     "data": {
      "text/plain": [
       "0    0.8665\n",
       "1    0.1335\n",
       "Name: adopted, dtype: float64"
      ]
     },
     "execution_count": 9,
     "metadata": {},
     "output_type": "execute_result"
    }
   ],
   "source": [
    "users.adopted.value_counts(normalize=1)"
   ]
  },
  {
   "cell_type": "markdown",
   "metadata": {},
   "source": [
    "**Deleting non-relevant columns**"
   ]
  },
  {
   "cell_type": "code",
   "execution_count": 10,
   "metadata": {},
   "outputs": [],
   "source": [
    "users.drop(columns=['user_id', 'name',\n",
    "                    'last_session_creation_time'], inplace=True)"
   ]
  },
  {
   "cell_type": "code",
   "execution_count": 11,
   "metadata": {},
   "outputs": [
    {
     "data": {
      "text/plain": [
       "Index(['object_id', 'creation_time', 'email', 'creation_source',\n",
       "       'opted_in_to_mailing_list', 'enabled_for_marketing_drip', 'org_id',\n",
       "       'invited_by_user_id', 'adopted'],\n",
       "      dtype='object')"
      ]
     },
     "execution_count": 11,
     "metadata": {},
     "output_type": "execute_result"
    }
   ],
   "source": [
    "users.columns"
   ]
  },
  {
   "cell_type": "markdown",
   "metadata": {},
   "source": [
    "**Creating some additional columns**"
   ]
  },
  {
   "cell_type": "markdown",
   "metadata": {},
   "source": [
    "a- If the user was not invited, we assign 0 to the corresponding entry in the 'invited_by_user_id', as an indicator that the user was not invited by anyone."
   ]
  },
  {
   "cell_type": "code",
   "execution_count": 12,
   "metadata": {},
   "outputs": [],
   "source": [
    "users['invited_by_user_id'] = users['invited_by_user_id'].fillna(0)"
   ]
  },
  {
   "cell_type": "markdown",
   "metadata": {},
   "source": [
    "b- Extracting the year, month and day from the creation time."
   ]
  },
  {
   "cell_type": "code",
   "execution_count": 13,
   "metadata": {},
   "outputs": [],
   "source": [
    "users['creation_time'] = pd.to_datetime(users['creation_time'])"
   ]
  },
  {
   "cell_type": "code",
   "execution_count": 14,
   "metadata": {},
   "outputs": [],
   "source": [
    "users = users.assign(year=users['creation_time'].apply(lambda s: s.year))\n",
    "users = users.assign(month=users['creation_time'].apply(lambda s: s.month))\n",
    "users = users.assign(day=users['creation_time'].apply(lambda s: s.day))\n",
    "users = users.assign(nday=users['creation_time'].apply(lambda s: s.day_name()))\n",
    "users = users.assign(hour=users['creation_time'].apply(lambda s: s.hour))"
   ]
  },
  {
   "cell_type": "markdown",
   "metadata": {},
   "source": [
    "c- Extracting the email domain"
   ]
  },
  {
   "cell_type": "code",
   "execution_count": 15,
   "metadata": {},
   "outputs": [],
   "source": [
    "users['email'] = users['email'].apply(lambda s:s.split('@')[1].split('.')[0])"
   ]
  },
  {
   "cell_type": "code",
   "execution_count": 16,
   "metadata": {},
   "outputs": [
    {
     "data": {
      "text/plain": [
       "gmail         3562\n",
       "yahoo         2447\n",
       "jourrapide    1259\n",
       "cuvox         1202\n",
       "gustr         1179\n",
       "hotmail       1165\n",
       "mumdc            2\n",
       "rerwl            2\n",
       "oqpze            2\n",
       "xvnbr            2\n",
       "Name: email, dtype: int64"
      ]
     },
     "execution_count": 16,
     "metadata": {},
     "output_type": "execute_result"
    }
   ],
   "source": [
    "users['email'].value_counts()[0:10]"
   ]
  },
  {
   "cell_type": "code",
   "execution_count": 17,
   "metadata": {},
   "outputs": [],
   "source": [
    "imp_domain = list(users['email'].value_counts()[0:6].index)\n",
    "users.at[~users.email.isin(imp_domain), 'email'] = 'Other'"
   ]
  },
  {
   "cell_type": "code",
   "execution_count": 18,
   "metadata": {},
   "outputs": [
    {
     "data": {
      "text/plain": [
       "gmail         3562\n",
       "yahoo         2447\n",
       "jourrapide    1259\n",
       "cuvox         1202\n",
       "Other         1186\n",
       "gustr         1179\n",
       "hotmail       1165\n",
       "Name: email, dtype: int64"
      ]
     },
     "execution_count": 18,
     "metadata": {},
     "output_type": "execute_result"
    }
   ],
   "source": [
    "users['email'].value_counts()"
   ]
  },
  {
   "cell_type": "markdown",
   "metadata": {},
   "source": [
    "d- Adding a column for the size of the organization to which the user belongs "
   ]
  },
  {
   "cell_type": "code",
   "execution_count": 19,
   "metadata": {},
   "outputs": [],
   "source": [
    "org_sizes = users.org_id.value_counts().reset_index().rename(columns={'org_id':'org_size','index':'org_id'})\n",
    "users = users.merge(org_sizes, on='org_id')"
   ]
  },
  {
   "cell_type": "markdown",
   "metadata": {},
   "source": [
    "**Some Data Visualizations**"
   ]
  },
  {
   "cell_type": "code",
   "execution_count": 20,
   "metadata": {},
   "outputs": [
    {
     "data": {
      "text/plain": [
       "Index(['object_id', 'creation_time', 'email', 'creation_source',\n",
       "       'opted_in_to_mailing_list', 'enabled_for_marketing_drip', 'org_id',\n",
       "       'invited_by_user_id', 'adopted', 'year', 'month', 'day', 'nday', 'hour',\n",
       "       'org_size'],\n",
       "      dtype='object')"
      ]
     },
     "execution_count": 20,
     "metadata": {},
     "output_type": "execute_result"
    }
   ],
   "source": [
    "users.columns"
   ]
  },
  {
   "cell_type": "code",
   "execution_count": 21,
   "metadata": {},
   "outputs": [],
   "source": [
    "cols = ['email', 'creation_source', 'opted_in_to_mailing_list', 'enabled_for_marketing_drip']"
   ]
  },
  {
   "cell_type": "code",
   "execution_count": 22,
   "metadata": {},
   "outputs": [
    {
     "data": {
      "image/png": "[encoded data removed]",
      "text/plain": [
       "<Figure size 1440x360 with 4 Axes>"
      ]
     },
     "metadata": {
      "needs_background": "light"
     },
     "output_type": "display_data"
    }
   ],
   "source": [
    "fig, axes = plt.subplots(1, 4, figsize=[20, 5])\n",
    "\n",
    "for col, ax in zip(cols, axes):\n",
    "    source = users.groupby(col).adopted.value_counts(\n",
    "        normalize=True).reset_index(col).rename(columns={'adopted': 'pct'}).reset_index()\n",
    "    whole = users.adopted.value_counts(normalize=True).reset_index()\n",
    "    whole[col] = 'all'\n",
    "    whole = whole.rename(columns={'adopted': 'pct', 'index': 'adopted'})\n",
    "    source = pd.concat([source, whole], sort=True)\n",
    "    ax.hlines(xmin=-1, xmax=len(users[col].unique()), y=sum(\n",
    "        users.adopted == 1)/len(users), color='y', linestyle='--')\n",
    "    sns.barplot(x=col, y='pct', data=source, hue='adopted', ax=ax)\n",
    "\n",
    "axes[1].set_xticklabels(['guest_inv', 'org_inv', 'personal_proj',\n",
    "                         'signup', 'signup_google', 'all'], rotation=90)\n",
    "axes[0].set_xticklabels(axes[0].get_xticklabels(),rotation=90)\n",
    "plt.show()"
   ]
  },
  {
   "cell_type": "markdown",
   "metadata": {},
   "source": [
    "- When considering the features: \"opted in to mailing list\", and \"enabled for marketing drip\", there is no difference in the distribution of the target variable vs the distribution of the target variable in the whole data.\n",
    "- Some slight differences observed for the features: creation_source and email, (in particular, the following categories: guest_invitation, signup_google, personal_proj, hotmail, gmail and yahoo, showed the great differences)."
   ]
  },
  {
   "cell_type": "code",
   "execution_count": 23,
   "metadata": {},
   "outputs": [
    {
     "data": {
      "image/png": "[encoded data removed]",
      "text/plain": [
       "<Figure size 1440x360 with 3 Axes>"
      ]
     },
     "metadata": {
      "needs_background": "light"
     },
     "output_type": "display_data"
    }
   ],
   "source": [
    "cols = ['year', 'month', 'nday']\n",
    "fig, axes = plt.subplots(1, 3, figsize=[20, 5])\n",
    "\n",
    "for col, ax in zip(cols, axes):\n",
    "    source = users.groupby(col).adopted.value_counts(\n",
    "        normalize=True).reset_index(col).rename(columns={'adopted': 'pct'}).reset_index()\n",
    "    whole = users.adopted.value_counts(normalize=True).reset_index()\n",
    "    whole[col] = 'all'\n",
    "    whole = whole.rename(columns={'adopted': 'pct', 'index': 'adopted'})\n",
    "    source = pd.concat([source, whole], sort=True)\n",
    "    ax.hlines(xmin=-1, xmax=len(users[col].unique()), y=sum(\n",
    "        users.adopted == 1)/len(users), color='y', linestyle='--')\n",
    "    sns.barplot(x=col, y='pct', data=source, hue='adopted', ax=ax)\n",
    "\n",
    "axes[-1].set_xticklabels(axes[-1].get_xticklabels(),rotation=90)\n",
    "plt.show()"
   ]
  },
  {
   "cell_type": "markdown",
   "metadata": {},
   "source": [
    "We are checking the month and year of activation time in order to check if there is association between adoption rate and some seasonal events. Note that for the year of 2014, we have dates spanning the first half of the year (month 1 till end of 5) and for 2012 we have dates spanning the last half of the year (month 6 till end of year). \n",
    "\n",
    "From the plots, most of the differences are seen for the year 2012 and 2014 and for the months 4, 5, 6, 8, 10.\n",
    "\n",
    "No much differences observed for the day name feature."
   ]
  },
  {
   "cell_type": "code",
   "execution_count": 24,
   "metadata": {},
   "outputs": [
    {
     "data": {
      "image/png": "[encoded data removed]",
      "text/plain": [
       "<Figure size 432x288 with 1 Axes>"
      ]
     },
     "metadata": {
      "needs_background": "light"
     },
     "output_type": "display_data"
    }
   ],
   "source": [
    "sns.boxplot(x=\"adopted\", y=\"org_size\", data=users)\n",
    "plt.show()"
   ]
  },
  {
   "cell_type": "markdown",
   "metadata": {},
   "source": [
    "The organization sizes for non adopted users are more spread out and include more high sizes."
   ]
  },
  {
   "cell_type": "markdown",
   "metadata": {},
   "source": [
    "**Computing the cramer's V coefficicents**\n",
    "To measure the statistical significance of these observations as well as for the reamining catgeorical variables with high cardinality, we compute the cramer'v coefficient for each categorical columns."
   ]
  },
  {
   "cell_type": "code",
   "execution_count": 25,
   "metadata": {},
   "outputs": [
    {
     "data": {
      "text/html": [
       "<div>\n",
       "<style scoped>\n",
       "    .dataframe tbody tr th:only-of-type {\n",
       "        vertical-align: middle;\n",
       "    }\n",
       "\n",
       "    .dataframe tbody tr th {\n",
       "        vertical-align: top;\n",
       "    }\n",
       "\n",
       "    .dataframe thead th {\n",
       "        text-align: right;\n",
       "    }\n",
       "</style>\n",
       "<table border=\"1\" class=\"dataframe\">\n",
       "  <thead>\n",
       "    <tr style=\"text-align: right;\">\n",
       "      <th></th>\n",
       "      <th>Chi2</th>\n",
       "      <th>P-val</th>\n",
       "      <th>Cramer's V</th>\n",
       "    </tr>\n",
       "  </thead>\n",
       "  <tbody>\n",
       "    <tr>\n",
       "      <td>invited_by_user_id</td>\n",
       "      <td>2771.966153</td>\n",
       "      <td>2.267052e-03</td>\n",
       "      <td>0.131583</td>\n",
       "    </tr>\n",
       "    <tr>\n",
       "      <td>month</td>\n",
       "      <td>151.196899</td>\n",
       "      <td>8.486707e-27</td>\n",
       "      <td>0.108092</td>\n",
       "    </tr>\n",
       "    <tr>\n",
       "      <td>org_id</td>\n",
       "      <td>539.010304</td>\n",
       "      <td>4.297528e-05</td>\n",
       "      <td>0.101236</td>\n",
       "    </tr>\n",
       "    <tr>\n",
       "      <td>year</td>\n",
       "      <td>111.060261</td>\n",
       "      <td>7.648401e-25</td>\n",
       "      <td>0.095337</td>\n",
       "    </tr>\n",
       "    <tr>\n",
       "      <td>creation_source</td>\n",
       "      <td>92.284640</td>\n",
       "      <td>4.305822e-19</td>\n",
       "      <td>0.085777</td>\n",
       "    </tr>\n",
       "    <tr>\n",
       "      <td>email</td>\n",
       "      <td>44.388734</td>\n",
       "      <td>6.189426e-08</td>\n",
       "      <td>0.056562</td>\n",
       "    </tr>\n",
       "    <tr>\n",
       "      <td>hour</td>\n",
       "      <td>32.847449</td>\n",
       "      <td>8.376189e-02</td>\n",
       "      <td>0.028645</td>\n",
       "    </tr>\n",
       "    <tr>\n",
       "      <td>day</td>\n",
       "      <td>34.544251</td>\n",
       "      <td>2.596004e-01</td>\n",
       "      <td>0.019455</td>\n",
       "    </tr>\n",
       "    <tr>\n",
       "      <td>opted_in_to_mailing_list</td>\n",
       "      <td>0.732772</td>\n",
       "      <td>3.919862e-01</td>\n",
       "      <td>0.000000</td>\n",
       "    </tr>\n",
       "    <tr>\n",
       "      <td>enabled_for_marketing_drip</td>\n",
       "      <td>0.222798</td>\n",
       "      <td>6.369164e-01</td>\n",
       "      <td>0.000000</td>\n",
       "    </tr>\n",
       "    <tr>\n",
       "      <td>nday</td>\n",
       "      <td>2.400092</td>\n",
       "      <td>8.794772e-01</td>\n",
       "      <td>0.000000</td>\n",
       "    </tr>\n",
       "  </tbody>\n",
       "</table>\n",
       "</div>"
      ],
      "text/plain": [
       "                                   Chi2         P-val  Cramer's V\n",
       "invited_by_user_id          2771.966153  2.267052e-03    0.131583\n",
       "month                        151.196899  8.486707e-27    0.108092\n",
       "org_id                       539.010304  4.297528e-05    0.101236\n",
       "year                         111.060261  7.648401e-25    0.095337\n",
       "creation_source               92.284640  4.305822e-19    0.085777\n",
       "email                         44.388734  6.189426e-08    0.056562\n",
       "hour                          32.847449  8.376189e-02    0.028645\n",
       "day                           34.544251  2.596004e-01    0.019455\n",
       "opted_in_to_mailing_list       0.732772  3.919862e-01    0.000000\n",
       "enabled_for_marketing_drip     0.222798  6.369164e-01    0.000000\n",
       "nday                           2.400092  8.794772e-01    0.000000"
      ]
     },
     "execution_count": 25,
     "metadata": {},
     "output_type": "execute_result"
    }
   ],
   "source": [
    "from scipy.stats import chi2_contingency\n",
    "def cram_cont(chi2, table):\n",
    "    ntot = table.sum().sum()\n",
    "    nrow, ncol = table.shape\n",
    "    phi_sqr = chi2/ntot\n",
    "    phi_sqr_tilde = max(0, phi_sqr-(nrow-1)*(ncol-1)/(ntot-1))\n",
    "    ncol_tilde = ncol-((ncol-1)**2)/((ntot-1))\n",
    "    nrow_tilde = nrow-((nrow-1)**2)/((ntot-1))\n",
    "    cramer = np.sqrt(phi_sqr_tilde/min(ncol_tilde-1, nrow_tilde-1))\n",
    "    cont = np.sqrt(chi2/(chi2+ntot))\n",
    "    return (cramer, cont)\n",
    "    plt.show()# Crash Features\n",
    "\n",
    "colnames = ['email', 'creation_source', 'opted_in_to_mailing_list', 'enabled_for_marketing_drip', 'org_id',\n",
    "            'invited_by_user_id',  'year', 'month', 'day', 'nday','hour']\n",
    "\n",
    "# Initialize an empty array that will have the results for each feature\n",
    "values = np.empty(shape=[3, len(colnames)])\n",
    "col = 0\n",
    "\n",
    "# Loop over the features and save chi2, pvalue, cramer's v and contingency coefs\n",
    "for colname in colnames:\n",
    "    table = pd.crosstab(users.adopted, users[colname])\n",
    "    chi2, p, dof, expected = chi2_contingency(table)\n",
    "    values[0][col] = chi2\n",
    "    values[1][col] = p\n",
    "    cramer, cont = cram_cont(chi2, table)\n",
    "    values[2][col] = cramer\n",
    "    col = col + 1\n",
    "\n",
    "# Create a dataframe for the results\n",
    "results = pd.DataFrame(values)\n",
    "results.columns = colnames\n",
    "results.rename(index={0: \"Chi2\", 1: \"P-val\",2: \"Cramer's V\"}, inplace=True)\n",
    "results.T.sort_values(by=\"Cramer's V\", ascending=False)"
   ]
  },
  {
   "cell_type": "markdown",
   "metadata": {},
   "source": [
    "As already illustrated, the columns \"opted_in_to_mailing_list\", \"enabled_for_marketing_drip\" and name of the day have no association with the target variable (their corresponding Cramer's V coefficient is zero). This is why, we are not going to consider them next when building the predictive model. "
   ]
  },
  {
   "cell_type": "code",
   "execution_count": 26,
   "metadata": {},
   "outputs": [
    {
     "data": {
      "text/plain": [
       "Index(['object_id', 'creation_time', 'email', 'creation_source',\n",
       "       'opted_in_to_mailing_list', 'enabled_for_marketing_drip', 'org_id',\n",
       "       'invited_by_user_id', 'adopted', 'year', 'month', 'day', 'nday', 'hour',\n",
       "       'org_size'],\n",
       "      dtype='object')"
      ]
     },
     "execution_count": 26,
     "metadata": {},
     "output_type": "execute_result"
    }
   ],
   "source": [
    "users.columns"
   ]
  },
  {
   "cell_type": "markdown",
   "metadata": {},
   "source": [
    "**Building the predictive model**"
   ]
  },
  {
   "cell_type": "code",
   "execution_count": 27,
   "metadata": {},
   "outputs": [],
   "source": [
    "X = users[['creation_source', 'email', 'org_id','invited_by_user_id', 'year', 'month', 'day','hour','org_size']]\n",
    "Y = users.adopted"
   ]
  },
  {
   "cell_type": "code",
   "execution_count": 28,
   "metadata": {},
   "outputs": [],
   "source": [
    "from sklearn.model_selection import train_test_split\n",
    "import category_encoders as ce\n",
    "from sklearn.model_selection import StratifiedKFold\n",
    "from sklearn.metrics import accuracy_score as accuracy, precision_score as precision\n",
    "from sklearn.metrics import recall_score as recall, f1_score as f1\n",
    "from sklearn.preprocessing import StandardScaler\n",
    "from sklearn.linear_model import SGDClassifier\n",
    "from sklearn.ensemble import RandomForestClassifier, GradientBoostingClassifier\n",
    "from imblearn.over_sampling import SMOTE, RandomOverSampler, SMOTENC\n",
    "\n",
    "Xtrain, Xtest, Ytrain, Ytest = train_test_split(\n",
    "    X, Y, test_size=0.2, random_state=0, stratify=Y)"
   ]
  },
  {
   "cell_type": "markdown",
   "metadata": {},
   "source": [
    "**Encoding the nominal categorical columns with low cardinality with one hot encoding**"
   ]
  },
  {
   "cell_type": "code",
   "execution_count": 29,
   "metadata": {},
   "outputs": [],
   "source": [
    "Xtrain = pd.get_dummies(Xtrain, columns=['creation_source','email'])"
   ]
  },
  {
   "cell_type": "code",
   "execution_count": 30,
   "metadata": {},
   "outputs": [],
   "source": [
    "Xtrain['year'] = Xtrain['year'] - 2011 # entries: 1 means 2012, 2 means 2013 and so on"
   ]
  },
  {
   "cell_type": "markdown",
   "metadata": {},
   "source": [
    "**Defining our class-validation function**\n",
    "This function will be used to compare between the models. Note that categorical variables with high cardinality are encoded with leave-one-out encoder and also oversampling is used to target imbalances in the data."
   ]
  },
  {
   "cell_type": "code",
   "execution_count": 31,
   "metadata": {},
   "outputs": [],
   "source": [
    "def cv_score(clf, x, y, cv, cols_to_encode, cat_range, num_range, scale=False):\n",
    "    result = np.zeros((cv, 4))\n",
    "    i = 0\n",
    "    rus = SMOTENC(cat_range,random_state=0)\n",
    "    \n",
    "    # split data into train/test groups, 'cv' times\n",
    "    for train, test in StratifiedKFold(cv).split(x, y):\n",
    "        x_train, y_train = x.iloc[train], y[train]\n",
    "        encoder = ce.leave_one_out.LeaveOneOutEncoder(cols=cols_to_encode).fit(\n",
    "            x_train, y_train)\n",
    "        x_trans = encoder.transform(x_train)\n",
    "        x_test = encoder.transform(x.iloc[test])\n",
    "        if (scale == True):\n",
    "            scaler = StandardScaler()\n",
    "            x_trans.at[:,0:7] = scaler.fit_transform(x_trans.iloc[:,num_range])\n",
    "            x_test.at[:,0:7] = scaler.transform(x_test.iloc[:,num_range])\n",
    "        x_trans, y_train = rus.fit_resample(x_trans, y_train)\n",
    "        clf.fit(x_trans, y_train)  # fit\n",
    "        ypred = clf.predict(x_test)\n",
    "        result[i, 0] = accuracy(ypred, y[test])\n",
    "        result[i, 1] = precision(ypred, y[test])\n",
    "        result[i, 2] = recall(ypred, y[test])\n",
    "        result[i, 3] = f1(ypred, y[test])\n",
    "        i = i + 1\n",
    "    return np.mean(result, axis=0)"
   ]
  },
  {
   "cell_type": "markdown",
   "metadata": {},
   "source": [
    "Models to try"
   ]
  },
  {
   "cell_type": "code",
   "execution_count": 32,
   "metadata": {},
   "outputs": [],
   "source": [
    "models=[SGDClassifier(loss='log'), RandomForestClassifier(random_state=1), GradientBoostingClassifier(random_state=2)]"
   ]
  },
  {
   "cell_type": "code",
   "execution_count": 33,
   "metadata": {},
   "outputs": [],
   "source": [
    "col_names =['org_id','invited_by_user_id']\n",
    "results = []\n",
    "for model in models:\n",
    "    result = cv_score(model, Xtrain, Ytrain.values, cols_to_encode=col_names, cv=5, scale=True,\n",
    "                      cat_range=range(7,18), num_range=range(0,7))\n",
    "    results.append(result)"
   ]
  },
  {
   "cell_type": "code",
   "execution_count": 34,
   "metadata": {},
   "outputs": [
    {
     "data": {
      "text/html": [
       "<div>\n",
       "<style scoped>\n",
       "    .dataframe tbody tr th:only-of-type {\n",
       "        vertical-align: middle;\n",
       "    }\n",
       "\n",
       "    .dataframe tbody tr th {\n",
       "        vertical-align: top;\n",
       "    }\n",
       "\n",
       "    .dataframe thead th {\n",
       "        text-align: right;\n",
       "    }\n",
       "</style>\n",
       "<table border=\"1\" class=\"dataframe\">\n",
       "  <thead>\n",
       "    <tr style=\"text-align: right;\">\n",
       "      <th></th>\n",
       "      <th>Accuracy</th>\n",
       "      <th>Precision</th>\n",
       "      <th>Recall</th>\n",
       "      <th>F1</th>\n",
       "    </tr>\n",
       "  </thead>\n",
       "  <tbody>\n",
       "    <tr>\n",
       "      <td>Logistic Regression</td>\n",
       "      <td>0.750104</td>\n",
       "      <td>0.226210</td>\n",
       "      <td>0.170092</td>\n",
       "      <td>0.193363</td>\n",
       "    </tr>\n",
       "    <tr>\n",
       "      <td>Random Forest</td>\n",
       "      <td>0.805937</td>\n",
       "      <td>0.127940</td>\n",
       "      <td>0.179955</td>\n",
       "      <td>0.149260</td>\n",
       "    </tr>\n",
       "    <tr>\n",
       "      <td>Gradient Boosting</td>\n",
       "      <td>0.743021</td>\n",
       "      <td>0.256645</td>\n",
       "      <td>0.178081</td>\n",
       "      <td>0.210011</td>\n",
       "    </tr>\n",
       "  </tbody>\n",
       "</table>\n",
       "</div>"
      ],
      "text/plain": [
       "                     Accuracy  Precision    Recall        F1\n",
       "Logistic Regression  0.750104   0.226210  0.170092  0.193363\n",
       "Random Forest        0.805937   0.127940  0.179955  0.149260\n",
       "Gradient Boosting    0.743021   0.256645  0.178081  0.210011"
      ]
     },
     "execution_count": 34,
     "metadata": {},
     "output_type": "execute_result"
    }
   ],
   "source": [
    "results = pd.DataFrame(results)\n",
    "results.columns = [\"Accuracy\", \"Precision\", \"Recall\", \"F1\"]\n",
    "results.rename(index={0: \"Logistic Regression\", 1: \"Random Forest\", 2: \"Gradient Boosting\"}, inplace=True)\n",
    "results"
   ]
  },
  {
   "cell_type": "markdown",
   "metadata": {},
   "source": [
    "We choose the best model based on its F1-score: Gradient Boosting"
   ]
  },
  {
   "cell_type": "markdown",
   "metadata": {},
   "source": [
    "**Final Model Performance**"
   ]
  },
  {
   "cell_type": "code",
   "execution_count": 36,
   "metadata": {},
   "outputs": [
    {
     "name": "stdout",
     "output_type": "stream",
     "text": [
      "Accuracy: 0.72625\n",
      "Precision: 0.271875\n",
      "Recall: 0.17025440313111545\n",
      "F1: 0.20938628158844763\n"
     ]
    }
   ],
   "source": [
    "clf = GradientBoostingClassifier(random_state=2)\n",
    "rus = SMOTENC(range(7,18), random_state=0)\n",
    "\n",
    "\n",
    "Xtest = pd.get_dummies(Xtest, columns=['creation_source','email'])\n",
    "Xtest['year'] = Xtest['year'] - 2011 \n",
    "\n",
    "# Encode the data using leave-one-out Encoder\n",
    "encoder = ce.leave_one_out.LeaveOneOutEncoder(cols=col_names).fit(Xtrain, Ytrain.values)\n",
    "x_trans = encoder.transform(Xtrain)\n",
    "x_test = encoder.transform(Xtest)\n",
    "scaler = StandardScaler()\n",
    "x_trans.at[:,0:7] = scaler.fit_transform(x_trans.iloc[:,0:7])\n",
    "x_test.at[:,0:7] = scaler.transform(x_test.iloc[:,0:7])\n",
    "x_trans, y_train = rus.fit_resample(x_trans, Ytrain.values)\n",
    "# Fit the model\n",
    "clf.fit(x_trans, y_train)\n",
    "# Test the model on the test set\n",
    "ypred = clf.predict(x_test)\n",
    "print('Accuracy:', accuracy(ypred, Ytest.values))\n",
    "print(\"Precision:\", precision(ypred, Ytest.values))\n",
    "print(\"Recall:\", recall(ypred, Ytest.values))\n",
    "print(\"F1:\", f1(ypred, Ytest.values))"
   ]
  },
  {
   "cell_type": "code",
   "execution_count": 37,
   "metadata": {},
   "outputs": [
    {
     "data": {
      "image/png": "[encoded data removed]",
      "text/plain": [
       "<Figure size 576x576 with 1 Axes>"
      ]
     },
     "metadata": {
      "needs_background": "light"
     },
     "output_type": "display_data"
    }
   ],
   "source": [
    "feature_names = Xtrain.columns\n",
    "sorted_idx = clf.feature_importances_.argsort()\n",
    "y_ticks = np.arange(0, len(feature_names))\n",
    "fig, ax = plt.subplots(figsize=[8,8])\n",
    "ax.barh(y_ticks, clf.feature_importances_[sorted_idx])\n",
    "ax.set_yticklabels(feature_names[sorted_idx])\n",
    "ax.set_yticks(y_ticks)\n",
    "ax.set_title(\"Feature Importances\")\n",
    "plt.show()"
   ]
  }
 ],
 "metadata": {
  "kernelspec": {
   "display_name": "Python 3",
   "language": "python",
   "name": "python3"
  },
  "language_info": {
   "codemirror_mode": {
    "name": "ipython",
    "version": 3
   },
   "file_extension": ".py",
   "mimetype": "text/x-python",
   "name": "python",
   "nbconvert_exporter": "python",
   "pygments_lexer": "ipython3",
   "version": "3.7.4"
  },
  "toc": {
   "base_numbering": 1,
   "nav_menu": {},
   "number_sections": true,
   "sideBar": true,
   "skip_h1_title": false,
   "title_cell": "Table of Contents",
   "title_sidebar": "Contents",
   "toc_cell": false,
   "toc_position": {},
   "toc_section_display": true,
   "toc_window_display": false
  },
  "varInspector": {
   "cols": {
    "lenName": 16,
    "lenType": 16,
    "lenVar": 40
   },
   "kernels_config": {
    "python": {
     "delete_cmd_postfix": "",
     "delete_cmd_prefix": "del ",
     "library": "var_list.py",
     "varRefreshCmd": "print(var_dic_list())"
    },
    "r": {
     "delete_cmd_postfix": ") ",
     "delete_cmd_prefix": "rm(",
     "library": "var_list.r",
     "varRefreshCmd": "cat(var_dic_list()) "
    }
   },
   "types_to_exclude": [
    "module",
    "function",
    "builtin_function_or_method",
    "instance",
    "_Feature"
   ],
   "window_display": false
  }
 },
 "nbformat": 4,
 "nbformat_minor": 2
}
