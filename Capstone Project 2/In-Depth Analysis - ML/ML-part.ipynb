{
 "cells": [
  {
   "cell_type": "markdown",
   "metadata": {
    "toc": true
   },
   "source": [
    "<h1>Table of Contents<span class=\"tocSkip\"></span></h1>\n",
    "<div class=\"toc\"><ul class=\"toc-item\"><li><span><a href=\"#Loading-the-data\" data-toc-modified-id=\"Loading-the-data-1\"><span class=\"toc-item-num\">1&nbsp;&nbsp;</span>Loading the data</a></span></li><li><span><a href=\"#Nested-Cross-Validation\" data-toc-modified-id=\"Nested-Cross-Validation-2\"><span class=\"toc-item-num\">2&nbsp;&nbsp;</span>Nested Cross-Validation</a></span></li><li><span><a href=\"#Encoding-the-Categorical-Variables\" data-toc-modified-id=\"Encoding-the-Categorical-Variables-3\"><span class=\"toc-item-num\">3&nbsp;&nbsp;</span>Encoding the Categorical Variables</a></span></li><li><span><a href=\"#Training-Regression-Models\" data-toc-modified-id=\"Training-Regression-Models-4\"><span class=\"toc-item-num\">4&nbsp;&nbsp;</span>Training Regression Models</a></span></li><li><span><a href=\"#Feature-Selection-with-Regression-Problem\" data-toc-modified-id=\"Feature-Selection-with-Regression-Problem-5\"><span class=\"toc-item-num\">5&nbsp;&nbsp;</span>Feature Selection with Regression Problem</a></span></li><li><span><a href=\"#Final-Model-Tuning\" data-toc-modified-id=\"Final-Model-Tuning-6\"><span class=\"toc-item-num\">6&nbsp;&nbsp;</span>Final Model Tuning</a></span></li><li><span><a href=\"#Performance-of-Final-Regression-Models\" data-toc-modified-id=\"Performance-of-Final-Regression-Models-7\"><span class=\"toc-item-num\">7&nbsp;&nbsp;</span>Performance of Final Regression Models</a></span></li><li><span><a href=\"#Classification-Version-of-the-Problem\" data-toc-modified-id=\"Classification-Version-of-the-Problem-8\"><span class=\"toc-item-num\">8&nbsp;&nbsp;</span>Classification Version of the Problem</a></span></li><li><span><a href=\"#Training-Classification-Models\" data-toc-modified-id=\"Training-Classification-Models-9\"><span class=\"toc-item-num\">9&nbsp;&nbsp;</span>Training Classification Models</a></span></li><li><span><a href=\"#Feature-Selection-with-Classification\" data-toc-modified-id=\"Feature-Selection-with-Classification-10\"><span class=\"toc-item-num\">10&nbsp;&nbsp;</span>Feature Selection with Classification</a></span></li><li><span><a href=\"#Final-Model-Tuning\" data-toc-modified-id=\"Final-Model-Tuning-11\"><span class=\"toc-item-num\">11&nbsp;&nbsp;</span>Final Model Tuning</a></span></li><li><span><a href=\"#Performance-of-Final-Classification-Model\" data-toc-modified-id=\"Performance-of-Final-Classification-Model-12\"><span class=\"toc-item-num\">12&nbsp;&nbsp;</span>Performance of Final Classification Model</a></span></li></ul></div>"
   ]
  },
  {
   "cell_type": "markdown",
   "metadata": {},
   "source": [
    "After having explored the restaurants' characteristics and created some features that capture the historical performance of each restaurant, we now focus on building a predictive model that predicts the performance of a given restaurant during a future inspection. The prediction of future performances can be in terms of estimating the number of low, medium and high violations that can be detected during a future inspection, or in terms of classifying a future inspection as a fail or pass. In other words, our problem can be formulated as a regression or classification problem. While the regression problem provides more granularity to know which restaurants to check first (i.e., those with large high violations number), the data might not be rich enough to predict the number of each type of violation which will make the regression a difficult task with the data we have. In this report, we explore both approaches of the problem. \n",
    "\n",
    "The report is divided as follows: we first prepare the features columns and the target variables and split the data into training and test sets where the test set consist of future inspections for the training set. We then explain the cross-validation process that we are going to use in building the predictive models and in selecting the final model. We then start with the regression problem, pre-process the training set, perform feature selection, train some regression models, check their performance in terms of MSE (mean squared error) and R-squared and select a final model. We also repeat the same steps with the classification version of the problem. We finally finish with the insights provided by the models built. "
   ]
  },
  {
   "cell_type": "markdown",
   "metadata": {},
   "source": [
    "# Loading the data\n",
    "\n",
    "We first import the required modules and load the data."
   ]
  },
  {
   "cell_type": "code",
   "execution_count": 273,
   "metadata": {},
   "outputs": [],
   "source": [
    "import pandas as pd\n",
    "import numpy as np\n",
    "from pingouin import anova\n",
    "import matplotlib.pyplot as plt\n",
    "from sklearn.preprocessing import StandardScaler\n",
    "import category_encoders as ce\n",
    "from sklearn.feature_selection import mutual_info_regression, mutual_info_classif\n",
    "from sklearn.ensemble import GradientBoostingRegressor, RandomForestRegressor\n",
    "from sklearn.ensemble import AdaBoostRegressor\n",
    "from sklearn.svm import LinearSVR\n",
    "from sklearn.ensemble import GradientBoostingClassifier, RandomForestClassifier\n",
    "from sklearn.ensemble import AdaBoostClassifier\n",
    "from sklearn.linear_model import SGDClassifier\n",
    "from sklearn.metrics import mean_squared_error, r2_score\n",
    "from sklearn.metrics import accuracy_score as accuracy, precision_score as precision\n",
    "from sklearn.metrics import recall_score as recall, f1_score as f1\n",
    "from sklearn.metrics import confusion_matrix, plot_confusion_matrix\n",
    "from sklearn.metrics import plot_precision_recall_curve"
   ]
  },
  {
   "cell_type": "code",
   "execution_count": 274,
   "metadata": {},
   "outputs": [],
   "source": [
    "data = pd.read_csv('data_to_train.csv')"
   ]
  },
  {
   "cell_type": "markdown",
   "metadata": {},
   "source": [
    "We extract the columns of feature into X."
   ]
  },
  {
   "cell_type": "code",
   "execution_count": 275,
   "metadata": {},
   "outputs": [],
   "source": [
    "X = data.drop(columns=['encounter', 'low', 'medium', 'high'])"
   ]
  },
  {
   "cell_type": "markdown",
   "metadata": {},
   "source": [
    "Since we are first focusing on the regression problem, our target variables will be the number of low, medium and high violations."
   ]
  },
  {
   "cell_type": "code",
   "execution_count": 276,
   "metadata": {},
   "outputs": [],
   "source": [
    "Y = data[['low', 'medium', 'high']]"
   ]
  },
  {
   "cell_type": "markdown",
   "metadata": {},
   "source": [
    "We now split the data into training and test sets: 80% for training and 20% for testing. Note that the test set corresponds to future inspections for the training set; the data is already sorted according to the inspection date, this is why the test set consists of the last 20% of the data samples."
   ]
  },
  {
   "cell_type": "code",
   "execution_count": 277,
   "metadata": {},
   "outputs": [],
   "source": [
    "Xtrain = X.iloc[0:int(len(data)*0.8),:]\n",
    "Ytrain = Y.iloc[0:int(len(data)*0.8),:]\n",
    "Xtest = X.iloc[int(len(data)*0.8):,:]\n",
    "Ytest = Y.iloc[int(len(data)*0.8):,:]"
   ]
  },
  {
   "cell_type": "markdown",
   "metadata": {},
   "source": [
    "# Nested Cross-Validation\n",
    "\n",
    "Before we start with the training step, we explain here the cross-validation method that we are going to use to perform feature selection and model selection. Since each instance in our training set corresponds to an inspection on a specific day and holds information about past violations, and since our goal is to predict future performance of restaurants, we are not going to use the regular cross-validation; when we are going to split the training set into sub-training and validations sets, the validation set should consist of subsequent instances for the sub-training set. In particular, we choose the first 60% of the training data as sub-training set and the next 20% of the training data as validation set, then we repeat the same process but now the first 70% of the data represents the sub-training set and the next 20% as validation set and then finally, we use the first 80% of the data as sub-training set and the remaining 20% as validation set. We then compute the average of the performances obtained with each validation set.\n",
    "\n",
    "We define the function of nested cross-validation as follows. The function takes as input the data features, the target variable, and the metric function that is used in evaluating the performance of the trained model. The function also includes the option of whether we want to scale the data or select from its features. The part of feature selection will be explained in a later section."
   ]
  },
  {
   "cell_type": "code",
   "execution_count": 426,
   "metadata": {},
   "outputs": [],
   "source": [
    "def nested_cv_score(x, y, clf, metric_func, scale=False, select=False,\n",
    "                    score_func=None):\n",
    "    result = np.zeros((3, len(metric_func)))\n",
    "    j = 0\n",
    "    for i in [0.6, 0.7, 0.8]:\n",
    "        x_train = x.iloc[0:int(len(x)*i), :]\n",
    "        y_train = y.iloc[0:int(len(y)*i)]\n",
    "        if(scale == True):\n",
    "            scaler = StandardScaler()\n",
    "            scaler.fit(x_train)\n",
    "            x_train = scaler.transform(x_train)\n",
    "        if(select == True):\n",
    "            scores = score_func(x_train, y_train, random_state=300)\n",
    "            x_train = x_train[:, scores != 0]\n",
    "            print(\"Number of columns dropped:\", sum(scores == 0))\n",
    "\n",
    "        x_test = x.iloc[int(len(x)*i):int(len(x)*(i+0.2)), ]\n",
    "        x_test = x_test.values\n",
    "        if(scale == True):\n",
    "            x_test = scaler.transform(x_test)\n",
    "        if(select == True):\n",
    "            x_test = x_test[:, scores != 0]\n",
    "\n",
    "        y_test = y.iloc[int(len(x)*i):int(len(x)*(i+0.2))]\n",
    "\n",
    "        clf.fit(x_train, y_train)\n",
    "        ypred = clf.predict(x_test)\n",
    "        for func, ind in zip(metric_func, range(0, len(metric_func))):\n",
    "            result[j, ind] = func(y_test, ypred)\n",
    "        j = j+1\n",
    "\n",
    "    return(np.mean(result, axis=0))"
   ]
  },
  {
   "cell_type": "markdown",
   "metadata": {},
   "source": [
    "# Encoding the Categorical Variables\n",
    "\n",
    "The data consist of numerical and categorical columns. The latter include both nominal and ordinal columns. We now encode the nominal categorical columns. \n",
    "\n",
    "The columns that we need to encode are the following:"
   ]
  },
  {
   "cell_type": "code",
   "execution_count": 282,
   "metadata": {},
   "outputs": [],
   "source": [
    "cols_to_encode = [\n",
    "    'description', 'alcohol', 'good_for_kids', 'good_for_groups',\n",
    "    'price_range', 'casual', 'classy', 'divey', 'hipster', 'intimate',\n",
    "    'romantic', 'touristy', 'trendy', 'upscale', 'day_name', 'American',\n",
    "    'Italian', 'French', 'Mediterranean', 'Spanish', 'European', 'Mexican',\n",
    "    'Latin American', 'African', 'Caribbean', 'Southern', 'Japanese',\n",
    "    'Chinese', 'E Asian', 'N/C Asian', 'SE Asian', 'Indian', 'Australian',\n",
    "    'Pizza', 'Fast/Fried Foods', 'Burgers', 'Dessert', 'Bagels/Pretzels',\n",
    "    'Gelato', 'Seafood', 'BBQ', 'Steaks', 'Vegetarian', 'Vegan', 'Gluten-Free',\n",
    "    'Noodles', 'Tacos', 'Sandwiches', 'Sushi', 'Kosher', 'Fruit/Veg', 'Other',\n",
    "    'Restaurants', 'Mobile', 'Convenience Store', 'Grocery Store', 'Food Shop',\n",
    "    'Bakeries', 'Coffee Place', 'Other Goods', 'Shopping', 'Services',\n",
    "    'Entertainment/Event Place', 'Fitness/Sport Place',\n",
    "    'Teaching/School Place', 'Religious Place', 'Health & Medical Place',\n",
    "    'Pub/Bars', 'Liquor Manufacturing', 'zip', 'municipal'\n",
    "]"
   ]
  },
  {
   "cell_type": "markdown",
   "metadata": {},
   "source": [
    "We are going to try the classic one hot encoding and label encoding as well. "
   ]
  },
  {
   "cell_type": "code",
   "execution_count": 283,
   "metadata": {},
   "outputs": [],
   "source": [
    "enc_onehot = ce.OneHotEncoder(cols=cols_to_encode).fit(Xtrain)\n",
    "Xtrain_onehot = enc_onehot.transform(Xtrain)"
   ]
  },
  {
   "cell_type": "code",
   "execution_count": 284,
   "metadata": {},
   "outputs": [],
   "source": [
    "enc_ord= ce.OrdinalEncoder(cols=cols_to_encode).fit(Xtrain)\n",
    "Xtrain_ord = enc_ord.transform(Xtrain)"
   ]
  },
  {
   "cell_type": "markdown",
   "metadata": {},
   "source": [
    "Note that while most of the categorical columns have at most three unique values, the columns: description, zip and municipal contain more than 3 unique values (description: 21, zip: 88, municipal: 136). On hot encoding scheme increases in this case significantly the total number of features, which we are going to address later through feature elimination.  \n",
    "The ordinal columns consist of the following columns: 'month', 'day', 'year', 'hour', 'inspect_num' and they all have been assigned integer values, therefore they do not need any encoding."
   ]
  },
  {
   "cell_type": "markdown",
   "metadata": {},
   "source": [
    "# Training Regression Models\n",
    "\n",
    "We now start with training the data, using our defined nested cross-validation function. The models that we are going to use are: linear support vector regressor (used a baseline model) and tree based models: random forest, ada boost, and gradient boosting regressors. We first start with the default parameters for each model, we use the training data encoded with one hot and ordinal encodings, we also start with all features and compare between the models using mean-squared error and we will also look at their R-squared scores. "
   ]
  },
  {
   "cell_type": "code",
   "execution_count": 285,
   "metadata": {},
   "outputs": [],
   "source": [
    "models = [LinearSVR(random_state=1), RandomForestRegressor(random_state=1), \n",
    "          AdaBoostRegressor(random_state=1), \n",
    "          GradientBoostingRegressor(random_state=1)]"
   ]
  },
  {
   "cell_type": "code",
   "execution_count": 286,
   "metadata": {},
   "outputs": [
    {
     "name": "stdout",
     "output_type": "stream",
     "text": [
      "                                  Mean Squared Error  R2 Score\n",
      "One Hot Encoding - Low Violation                              \n",
      "Linear SVR                                  8.045280  0.008385\n",
      "Random Forest Regressor                     5.836208  0.281117\n",
      "AdaBoost Regressor                          9.030906 -0.112146\n",
      "Gradient Boosting Regressor                 5.843191  0.280142\n",
      "                                     Mean Squared Error  R2 Score\n",
      "One Hot Encoding - Medium Violation                              \n",
      "Linear SVR                                     1.458459  0.004655\n",
      "Random Forest Regressor                        1.246249  0.149597\n",
      "AdaBoost Regressor                             2.503747 -0.708556\n",
      "Gradient Boosting Regressor                    1.243516  0.151465\n",
      "                                   Mean Squared Error  R2 Score\n",
      "One Hot Encoding - High Violation                              \n",
      "Linear SVR                                   0.807403  0.024286\n",
      "Random Forest Regressor                      0.731271  0.112643\n",
      "AdaBoost Regressor                           1.822915 -1.213779\n",
      "Gradient Boosting Regressor                  0.690629  0.162729\n"
     ]
    }
   ],
   "source": [
    "import warnings\n",
    "warnings.filterwarnings(\"ignore\")\n",
    "\n",
    "for viol in ['low', 'medium', 'high']:\n",
    "    results = []\n",
    "    for model in models:\n",
    "        res = nested_cv_score(Xtrain_onehot, Ytrain[viol], model,\n",
    "                              [mean_squared_error, r2_score], scale=True)\n",
    "        results.append(res)\n",
    "    results = pd.DataFrame(results)\n",
    "    results.columns = [\"Mean Squared Error\", \"R2 Score\"]\n",
    "    results.rename(index={0: \"Linear SVR\", 1: \"Random Forest Regressor\",\n",
    "                          2: \"AdaBoost Regressor\",\n",
    "                          3: \"Gradient Boosting Regressor\"}, inplace=True)\n",
    "    if viol == 'low':\n",
    "        results.index.name = \"One Hot Encoding - Low Violation\"\n",
    "    elif viol == 'medium':\n",
    "        results.index.name = \"One Hot Encoding - Medium Violation\"\n",
    "    else:\n",
    "        results.index.name = \"One Hot Encoding - High Violation\"\n",
    "    print(results)"
   ]
  },
  {
   "cell_type": "markdown",
   "metadata": {},
   "source": [
    "For low and high violations, we see that Gradient boosting regressor and random forest have  better performance (in terms of lower MSE) than the other two models. With high violations, gradient boosting regressor showed the lowest MSE."
   ]
  },
  {
   "cell_type": "code",
   "execution_count": 287,
   "metadata": {},
   "outputs": [
    {
     "name": "stdout",
     "output_type": "stream",
     "text": [
      "                                  Mean Squared Error  R2 Score\n",
      "Ordinal Encoding - Low Violation                              \n",
      "Linear SVR                                  7.814561  0.036509\n",
      "Random Forest Regressor                     5.896790  0.273740\n",
      "AdaBoost Regressor                          8.236327 -0.015791\n",
      "Gradient Boosting Regressor                 5.834430  0.281412\n",
      "                                     Mean Squared Error  R2 Score\n",
      "Ordinal Encoding - Medium Violation                              \n",
      "Linear SVR                                     1.369467  0.065405\n",
      "Random Forest Regressor                        1.259151  0.140800\n",
      "AdaBoost Regressor                             2.270310 -0.549595\n",
      "Gradient Boosting Regressor                    1.246730  0.149238\n",
      "                                   Mean Squared Error  R2 Score\n",
      "Ordinal Encoding - High Violation                              \n",
      "Linear SVR                                   0.817994  0.010179\n",
      "Random Forest Regressor                      0.742043  0.099861\n",
      "AdaBoost Regressor                           1.476398 -0.788061\n",
      "Gradient Boosting Regressor                  0.699775  0.151502\n"
     ]
    }
   ],
   "source": [
    "import warnings\n",
    "warnings.filterwarnings(\"ignore\")\n",
    "\n",
    "for viol in ['low', 'medium', 'high']:\n",
    "    results = []\n",
    "    for model in models:\n",
    "        res = nested_cv_score(Xtrain_ord, Ytrain[viol], model,\n",
    "                              [mean_squared_error, r2_score], scale=True)\n",
    "        results.append(res)\n",
    "    results = pd.DataFrame(results)\n",
    "    results.columns = [\"Mean Squared Error\", \"R2 Score\"]\n",
    "    results.rename(index={0: \"Linear SVR\", 1: \"Random Forest Regressor\",\n",
    "                          2: \"AdaBoost Regressor\",\n",
    "                          3: \"Gradient Boosting Regressor\"}, inplace=True)\n",
    "    if viol == 'low':\n",
    "        results.index.name = \"Ordinal Encoding - Low Violation\"\n",
    "    elif viol == 'medium':\n",
    "        results.index.name = \"Ordinal Encoding - Medium Violation\"\n",
    "    else:\n",
    "        results.index.name = \"Ordinal Encoding - High Violation\"\n",
    "    print(results)"
   ]
  },
  {
   "cell_type": "markdown",
   "metadata": {},
   "source": [
    "With this type of encoding, we notice that gradient boosting classifier always has the lowest MSE for all types of violations. We also notice that gradient boosting with ordinal encoding performed slightly better than with one hot encoding. On the other hand, with medium and high violations, one hot encoding performed better than ordinal encoding.\n",
    "\n",
    "However, if we look at the score of R-squared, we see that all models are not performing well in terms how well they are fitting the data. We next focus on gradient boosting model and perform feature selection to see if the performance can be boosted."
   ]
  },
  {
   "cell_type": "markdown",
   "metadata": {},
   "source": [
    "# Feature Selection with Regression Problem\n",
    "\n",
    "We now perform feature selection using the filter method. In particular, we compute the mutual information between each feature and the the number of violation for each type. We then drop the features that have 0 mutual information with the target variable. This can help us in removing the redundant features, especially with the one hot encoding scheme that significantly increases the total number of features. We chose the mutual information test over the F-test, because F-test requires some assumptions on the features of the data (normality assumption with same variance), while mutual information do not require that the features hold those assumptions. Moreover, mutual information can detect non-linear relationship between the features and the target variables.\n",
    "\n",
    "To test whether reducing the number of features can reduce the MSE of the models, we again perform cross-validation, where for each sub-training set we remove the features that have 0 mutual information with the target variable. We compare the obtained results with those obtained when the models considered the total number of features.\n",
    "\n",
    "We start with the data encoded with one hot encoding; the total number of features here is 499."
   ]
  },
  {
   "cell_type": "code",
   "execution_count": 48,
   "metadata": {},
   "outputs": [
    {
     "data": {
      "text/plain": [
       "(14648, 499)"
      ]
     },
     "execution_count": 48,
     "metadata": {},
     "output_type": "execute_result"
    }
   ],
   "source": [
    "Xtrain_onehot.shape[1]"
   ]
  },
  {
   "cell_type": "code",
   "execution_count": 307,
   "metadata": {},
   "outputs": [
    {
     "name": "stdout",
     "output_type": "stream",
     "text": [
      "Numbers of columns dropped: 204\n",
      "Numbers of columns dropped: 200\n",
      "Numbers of columns dropped: 186\n",
      "                                  Mean Squared Error  R2 Score\n",
      "One Hot Encoding - Low Violation                              \n",
      "0                                           5.850644  0.279305\n",
      "\n",
      "\n",
      "Numbers of columns dropped: 214\n",
      "Numbers of columns dropped: 211\n",
      "Numbers of columns dropped: 211\n",
      "                                     Mean Squared Error  R2 Score\n",
      "One Hot Encoding - Medium Violation                              \n",
      "0                                               1.23661  0.156163\n",
      "\n",
      "\n",
      "Numbers of columns dropped: 189\n",
      "Numbers of columns dropped: 184\n",
      "Numbers of columns dropped: 208\n",
      "                                   Mean Squared Error  R2 Score\n",
      "One Hot Encoding - High Violation                              \n",
      "0                                            0.691962  0.161294\n",
      "\n",
      "\n"
     ]
    }
   ],
   "source": [
    "for viol in ['low', 'medium', 'high']:\n",
    "    results = nested_cv_score(Xtrain_onehot, Ytrain[viol],\n",
    "                              GradientBoostingRegressor(random_state=1),\n",
    "                          [mean_squared_error, r2_score], scale=True, select=True,\n",
    "                          score_func=mutual_info_regression)\n",
    "    \n",
    "    results = pd.DataFrame(results)\n",
    "    results = results.T\n",
    "    results.columns = [\"Mean Squared Error\", \"R2 Score\"]\n",
    "    if viol == 'low':\n",
    "        results.index.name = \"One Hot Encoding - Low Violation\"\n",
    "    elif viol == 'medium':\n",
    "        results.index.name = \"One Hot Encoding - Medium Violation\"\n",
    "    else:\n",
    "        results.index.name = \"One Hot Encoding - High Violation\"\n",
    "    print(results)\n",
    "    print('\\n')"
   ]
  },
  {
   "cell_type": "markdown",
   "metadata": {},
   "source": [
    "If we compare those results with the ones obtained from the total number of features, we notice that for low and high violations (with one hot encoding), the MSE and R2 scores are close (slightly better with the complete number of features), and with medium violations the MSE and R2 scores are better with less features. Let us now check the other encoding scheme"
   ]
  },
  {
   "cell_type": "code",
   "execution_count": 308,
   "metadata": {},
   "outputs": [
    {
     "name": "stdout",
     "output_type": "stream",
     "text": [
      "Numbers of columns dropped: 36\n",
      "Numbers of columns dropped: 18\n",
      "Numbers of columns dropped: 26\n",
      "                                  Mean Squared Error  R2 Score\n",
      "One Hot Encoding - Low Violation                              \n",
      "0                                           5.836886  0.281165\n",
      "\n",
      "\n",
      "Numbers of columns dropped: 35\n",
      "Numbers of columns dropped: 26\n",
      "Numbers of columns dropped: 18\n",
      "                                     Mean Squared Error  R2 Score\n",
      "One Hot Encoding - Medium Violation                              \n",
      "0                                              1.247337  0.148848\n",
      "\n",
      "\n",
      "Numbers of columns dropped: 22\n",
      "Numbers of columns dropped: 16\n",
      "Numbers of columns dropped: 18\n",
      "                                   Mean Squared Error  R2 Score\n",
      "One Hot Encoding - High Violation                              \n",
      "0                                            0.699358  0.152308\n",
      "\n",
      "\n"
     ]
    }
   ],
   "source": [
    "for viol in ['low', 'medium', 'high']:\n",
    "    results = nested_cv_score(Xtrain_ord, Ytrain[viol],\n",
    "                              GradientBoostingRegressor(random_state=1),\n",
    "                          [mean_squared_error, r2_score], scale=True, select=True,\n",
    "                          score_func=mutual_info_regression)\n",
    "    \n",
    "    results = pd.DataFrame(results)\n",
    "    results = results.T\n",
    "    results.columns = [\"Mean Squared Error\", \"R2 Score\"]\n",
    "    if viol == 'low':\n",
    "        results.index.name = \"One Hot Encoding - Low Violation\"\n",
    "    elif viol == 'medium':\n",
    "        results.index.name = \"One Hot Encoding - Medium Violation\"\n",
    "    else:\n",
    "        results.index.name = \"One Hot Encoding - High Violation\"\n",
    "    print(results)\n",
    "    print('\\n')"
   ]
  },
  {
   "cell_type": "markdown",
   "metadata": {},
   "source": [
    "We notice that with low violations, performing ordinal encoding with feature selection gave the best MSE score. For medium violations, performing one hot encoding with feature selection gave the best MSE score. For high violations, performing one hot encoding without feature selection gave the best MSE score. We next focus on these combinations and fine-tune the models. "
   ]
  },
  {
   "cell_type": "markdown",
   "metadata": {},
   "source": [
    "# Final Model Tuning\n",
    "\n",
    "To check if we can obtain an additional boost in the performance of the gradient boosting model for each type of violation, we now focus on fine tuning some of its parameters. We are also going to use nested cross validation to find the best parameters, but instead of using our defined function for nested cross validation, we are going to divide the process; this is because mutual information takes some time to compute, we will first pre-process our training data for each type of violation and make it ready for model tuning.\n",
    "\n",
    "We first define two functions that we will use to prepare and pre-process the sub-training and validation sets for each step of the cross validation process."
   ]
  },
  {
   "cell_type": "code",
   "execution_count": 309,
   "metadata": {},
   "outputs": [],
   "source": [
    "def prepare(x_train, y_train, x_test, select=False, scale=False, score_func=None):\n",
    "\n",
    "    if(scale == True):\n",
    "        scaler = StandardScaler()\n",
    "        scaler.fit(x_train)\n",
    "        x_train = scaler.transform(x_train)\n",
    "        x_test = scaler.transform(x_test)\n",
    "\n",
    "    if(select == True):\n",
    "        scores = score_func(x_train, y_train)\n",
    "        x_train = x_train[:, scores != 0]\n",
    "        x_test = x_test[:, scores != 0]\n",
    "\n",
    "    return x_train, x_test"
   ]
  },
  {
   "cell_type": "code",
   "execution_count": 311,
   "metadata": {},
   "outputs": [],
   "source": [
    "def prepare_cross_validation(x, y, select=False):\n",
    "    res = []\n",
    "    for i in [0.6, 0.7, 0.8]:\n",
    "        x_train = x.iloc[0:int(len(x)*i), :]\n",
    "        y_train = y.iloc[0:int(len(y)*i)]\n",
    "        x_test = x.iloc[int(len(x)*i):int(len(x)*(i+0.2)), :]\n",
    "        y_test = y.iloc[int(len(x)*i):int(len(x)*(i+0.2))]\n",
    "        x_train, x_test = prepare(x_train, y_train, x_test, select=select,\n",
    "                                  scale=True, score_func=mutual_info_regression)\n",
    "        res.append(x_train)\n",
    "        res.append(y_train)\n",
    "        res.append(x_test)\n",
    "        res.append(y_test)\n",
    "    return res"
   ]
  },
  {
   "cell_type": "markdown",
   "metadata": {},
   "source": [
    "After we have defined the functions that prepare our training data for cross validation, we now use them to prepare the required datasets for each type of violation."
   ]
  },
  {
   "cell_type": "code",
   "execution_count": 312,
   "metadata": {},
   "outputs": [],
   "source": [
    "xy_data_low = prepare_cross_validation(Xtrain_ord, Ytrain['low'], select=True)\n",
    "xy_data_med = prepare_cross_validation(Xtrain_onehot, Ytrain['medium'], select=True)\n",
    "xy_data_high = prepare_cross_validation(Xtrain_onehot, Ytrain['high'], select=True)"
   ]
  },
  {
   "cell_type": "markdown",
   "metadata": {},
   "source": [
    "We now define the function that computes that average performances (in terms of MSE) of the given model (clf) on the validation sets. "
   ]
  },
  {
   "cell_type": "code",
   "execution_count": 313,
   "metadata": {},
   "outputs": [],
   "source": [
    "def compute_mean_cv(xy_data, clf):\n",
    "    result = []\n",
    "    for i in [0, 1, 2]:\n",
    "        x_train = xy_data[0+4*(i)]\n",
    "        y_train = xy_data[1+4*(i)]\n",
    "        x_test = xy_data[2+4*(i)]\n",
    "        y_test = xy_data[3+4*(i)]\n",
    "        clf.fit(x_train, y_train)\n",
    "        ypred = clf.predict(x_test)\n",
    "        result.append(mean_squared_error(y_test, ypred))\n",
    "    return np.mean(result)"
   ]
  },
  {
   "cell_type": "markdown",
   "metadata": {},
   "source": [
    "We are now ready to start with fine tuning the models. We will only focus on three parameters of gradient boosting regressor: \"n_estimators\", \"learning_rate\" and \"max_depth\". We start with the first two parameters \"n_estimators\"  and \"learning_rate\", because there is a trade-off between these two parameters (n_estimators is the total number of trees and learning rate is the coefficient that shrinks the contribution of each tree)."
   ]
  },
  {
   "cell_type": "code",
   "execution_count": 431,
   "metadata": {},
   "outputs": [
    {
     "name": "stdout",
     "output_type": "stream",
     "text": [
      "low\n",
      "250 0.05\n",
      "med\n",
      "100 0.05\n",
      "high\n",
      "250 0.05\n"
     ]
    }
   ],
   "source": [
    "n_est = [100, 250, 500]\n",
    "rates = [0.1, 0.05, 0.01]\n",
    "\n",
    "for viol in ['low', 'med', 'high']:\n",
    "    min_mse = 1000\n",
    "    for n in n_est:\n",
    "        for r in rates:\n",
    "            model = GradientBoostingRegressor(\n",
    "                random_state=1, n_estimators=n, learning_rate=r)\n",
    "\n",
    "            result = compute_mean_cv(\n",
    "                locals()['xy_data_{}'.format(viol)], model)\n",
    "            if(result < min_mse):\n",
    "                min_mse = result\n",
    "                min_n = n\n",
    "                min_r = r\n",
    "    print(viol)\n",
    "    print(min_mse, min_n, min_r)"
   ]
  },
  {
   "cell_type": "markdown",
   "metadata": {},
   "source": [
    "The learning rate is 0.05 for all models, and the number of trees is 100 for the model of medium violations and 250 for the models of medium and low violations. We now check the 'max_depth' parameter."
   ]
  },
  {
   "cell_type": "code",
   "execution_count": 315,
   "metadata": {},
   "outputs": [
    {
     "name": "stdout",
     "output_type": "stream",
     "text": [
      "low\n",
      "5.790844846584156 4\n",
      "med\n",
      "1.2396162199120757 4\n",
      "high\n",
      "0.6914830138500928 3\n"
     ]
    }
   ],
   "source": [
    "depth = [2, 3, 4, 5, 6, 7]\n",
    "\n",
    "for viol in ['low', 'med', 'high']:\n",
    "    min_mse = 1000\n",
    "    for d in depth:\n",
    "        n = 250\n",
    "        if (viol == 'med'):\n",
    "            n = 100\n",
    "        model = GradientBoostingRegressor(random_state=1, n_estimators=n,\n",
    "                                          learning_rate=0.05,\n",
    "                                          max_depth=d)\n",
    "        result = compute_mean_cv(locals()['xy_data_{}'.format(viol)], model)\n",
    "        if(result < min_mse):\n",
    "            min_mse = result\n",
    "            min_d = d\n",
    "    print(viol)\n",
    "    print(min_mse, min_d)"
   ]
  },
  {
   "cell_type": "markdown",
   "metadata": {},
   "source": [
    "We have 4 as max_depth parameter for the models of low and medium violations, and 3 for the model of high violations."
   ]
  },
  {
   "cell_type": "markdown",
   "metadata": {},
   "source": [
    "We next rebuild these models using the whole training set and check their performance on the test set."
   ]
  },
  {
   "cell_type": "markdown",
   "metadata": {},
   "source": [
    "# Performance of Final Regression Models"
   ]
  },
  {
   "cell_type": "markdown",
   "metadata": {},
   "source": [
    "We now test the final models with their chosen parameters on the test set. For this sake, we first fit the chosen models on the whole training set and then check their performance using the test set.\n",
    "\n",
    "We first prepare and preprocess the test set."
   ]
  },
  {
   "cell_type": "code",
   "execution_count": 316,
   "metadata": {},
   "outputs": [],
   "source": [
    "Xtest_onehot = enc_onehot.transform(Xtest)\n",
    "Xtest_ord = enc_ord.transform(Xtest)\n",
    "\n",
    "Xtrain_low, Xtest_low = prepare(Xtrain_ord, Ytrain['low'], Xtest_ord,\n",
    "                                select=True, scale=True,\n",
    "                                score_func=mutual_info_regression)\n",
    "Xtrain_med, Xtest_med = prepare(Xtrain_onehot, Ytrain['medium'],\n",
    "                                Xtest_onehot, select=True, scale=True,\n",
    "                                score_func=mutual_info_regression)\n",
    "Xtrain_high, Xtest_high = prepare(Xtrain_onehot, Ytrain['high'],\n",
    "                                  Xtest_onehot, select=True, scale=True,\n",
    "                                  score_func=mutual_info_regression)"
   ]
  },
  {
   "cell_type": "markdown",
   "metadata": {},
   "source": [
    "We then initialize the model for each violation type."
   ]
  },
  {
   "cell_type": "code",
   "execution_count": 317,
   "metadata": {},
   "outputs": [],
   "source": [
    "model_low = GradientBoostingRegressor(random_state=1, n_estimators=250,\n",
    "                                      learning_rate=0.05,\n",
    "                                      max_depth=4)\n",
    "model_med = GradientBoostingRegressor(random_state=1, n_estimators=100,\n",
    "                                      learning_rate=0.05,\n",
    "                                      max_depth=4)\n",
    "model_high = GradientBoostingRegressor(random_state=1, n_estimators=250,\n",
    "                                       learning_rate=0.05,\n",
    "                                       max_depth=3)"
   ]
  },
  {
   "cell_type": "markdown",
   "metadata": {},
   "source": [
    "We fit the models using the whole training set and then check their performance on the test set."
   ]
  },
  {
   "cell_type": "code",
   "execution_count": 318,
   "metadata": {},
   "outputs": [],
   "source": [
    "model_low.fit(Xtrain_low, Ytrain['low'])\n",
    "model_med.fit(Xtrain_med, Ytrain['medium'])\n",
    "model_high.fit(Xtrain_high, Ytrain['high'])\n",
    "\n",
    "ypred_low = model_low.predict(Xtest_low)\n",
    "ypred_med = model_med.predict(Xtest_med)\n",
    "ypred_high = model_high.predict(Xtest_high)\n",
    "\n",
    "mse_low = mean_squared_error(Ytest['low'], ypred_low)\n",
    "mse_med = mean_squared_error(Ytest['medium'], ypred_med)\n",
    "mse_high = mean_squared_error(Ytest['high'], ypred_high)\n",
    "\n",
    "rs_low = r2_score(Ytest['low'], ypred_low)\n",
    "rs_med = r2_score(Ytest['medium'], ypred_med)\n",
    "rs_high = r2_score(Ytest['high'], ypred_high)"
   ]
  },
  {
   "cell_type": "code",
   "execution_count": 320,
   "metadata": {},
   "outputs": [
    {
     "name": "stdout",
     "output_type": "stream",
     "text": [
      "Low Violations\n",
      "MSE: 5.832756214471463 R2: 0.24033434619115324\n",
      "Medium Violations\n",
      "MSE: 1.3046813152332875 R2: 0.15682566866445458\n",
      "High Violations\n",
      "MSE: 0.7639406850414634 R2: 0.12615197445631632\n"
     ]
    }
   ],
   "source": [
    "print('Low Violations')\n",
    "print('MSE: {}'.format(mse_low), 'R2: {}'.format(rs_low))\n",
    "print('Medium Violations')\n",
    "print('MSE: {}'.format(mse_med), 'R2: {}'.format(rs_med))\n",
    "print('High Violations')\n",
    "print('MSE: {}'.format(mse_high), 'R2: {}'.format(rs_high))"
   ]
  },
  {
   "cell_type": "markdown",
   "metadata": {},
   "source": [
    "As expected, the models do not fit well the data, which suggests that regression here is a difficult task with the data we have. Let us know try the second approach of the problem: classification, to see if we can instead detect the set of restaurants that might fail a future inspection (instead of estimating the possible number of violations that can be detected)."
   ]
  },
  {
   "cell_type": "markdown",
   "metadata": {},
   "source": [
    "# Classification Version of the Problem\n",
    "\n",
    "We now focus on the classification version of the problem. Since estimating the number of possible violations turned out to be a difficult task for our data, detecting the set of possible restaurants that could fail a future inspection might be an easier task. We now explore the classification approach. By failing an inspection, we assume that at least one high violation or at least 2 medium violations were detected during the inspection. Using this assumption, we create the target variable so that '1' means 'Failed' and '0' means 'Passed'."
   ]
  },
  {
   "cell_type": "code",
   "execution_count": 321,
   "metadata": {},
   "outputs": [],
   "source": [
    "Y = pd.Series(len(X)*[0])\n",
    "Y[np.logical_or((data.medium>1),(data.high>0))]=1"
   ]
  },
  {
   "cell_type": "markdown",
   "metadata": {},
   "source": [
    "We check the proportion of each class to verify if there is any imbalance between the two classes."
   ]
  },
  {
   "cell_type": "code",
   "execution_count": 322,
   "metadata": {},
   "outputs": [
    {
     "name": "stdout",
     "output_type": "stream",
     "text": [
      "Percentage of Passes: 51.848615586259626\n",
      "Percentage of Failures: 48.151384413740374\n"
     ]
    }
   ],
   "source": [
    "print(\"Percentage of Passes:\", 100*sum(Y==0)/len(Y))\n",
    "print(\"Percentage of Failures:\", 100*sum(Y==1)/len(Y))"
   ]
  },
  {
   "cell_type": "markdown",
   "metadata": {},
   "source": [
    "The proportions of the two classes are close to each other, we do not have problems with class imbalances. We now create the training and testing sets for the labeled target variable."
   ]
  },
  {
   "cell_type": "code",
   "execution_count": 323,
   "metadata": {},
   "outputs": [],
   "source": [
    "Ytrain = Y.iloc[0:int(len(data)*0.8)]\n",
    "Ytest = Y.iloc[int(len(data)*0.8):]"
   ]
  },
  {
   "cell_type": "markdown",
   "metadata": {},
   "source": [
    "We next train some regression problems, perform again feature selection and then fine tune the chosen model."
   ]
  },
  {
   "cell_type": "markdown",
   "metadata": {},
   "source": [
    "# Training Classification Models"
   ]
  },
  {
   "cell_type": "markdown",
   "metadata": {},
   "source": [
    "To compare between the models, we again use our nested cross validation function and the performance is evaluated based on the average accuracy of the models. The models we are going to train are: logistic regression (used as baseline), and tree based classifiers (random fores, ada boost and gradient boosting)."
   ]
  },
  {
   "cell_type": "code",
   "execution_count": 326,
   "metadata": {},
   "outputs": [],
   "source": [
    "models = [SGDClassifier(loss='log', random_state=1), \n",
    "          RandomForestClassifier(random_state=1),\n",
    "          AdaBoostClassifier(random_state=1), \n",
    "          GradientBoostingClassifier(random_state=1)]"
   ]
  },
  {
   "cell_type": "markdown",
   "metadata": {},
   "source": [
    "We first start with the data processed with one hot encoding."
   ]
  },
  {
   "cell_type": "code",
   "execution_count": 327,
   "metadata": {},
   "outputs": [
    {
     "name": "stdout",
     "output_type": "stream",
     "text": [
      "                              Accuracy\n",
      "One Hot Encoding                      \n",
      "Logistic Regression           0.586462\n",
      "Random Forest Classifier      0.659954\n",
      "AdaBoost Classifier           0.658362\n",
      "Gradient Boosting Classifier  0.673834\n"
     ]
    }
   ],
   "source": [
    "results=[]\n",
    "for model in models:\n",
    "    res = nested_cv_score(Xtrain_onehot, Ytrain, model, [accuracy], scale=True)\n",
    "    results.append(res)\n",
    "results = pd.DataFrame(results)\n",
    "results.columns = [\"Accuracy\"]\n",
    "results.rename(index={0: \"Logistic Regression\", 1: \"Random Forest Classifier\", \n",
    "                      2: \"AdaBoost Classifier\",\n",
    "                     3: \"Gradient Boosting Classifier\"}, inplace=True)\n",
    "results.index.name = \"One Hot Encoding\" \n",
    "print(results)"
   ]
  },
  {
   "cell_type": "markdown",
   "metadata": {},
   "source": [
    "We noticed that gradient boosting classifier also performed the best between the models in terms of accuracy. Let us check now with label encoding."
   ]
  },
  {
   "cell_type": "code",
   "execution_count": 357,
   "metadata": {},
   "outputs": [
    {
     "name": "stdout",
     "output_type": "stream",
     "text": [
      "                              Accuracy\n",
      "Ordinal Encoding                      \n",
      "Logistic Regression           0.617292\n",
      "Random Forest Classifier      0.665529\n",
      "AdaBoost Classifier           0.662344\n",
      "Gradient Boosting Classifier  0.674858\n"
     ]
    }
   ],
   "source": [
    "results=[]\n",
    "for model in models:\n",
    "    res = nested_cv_score(Xtrain_ord, Ytrain, model, [accuracy], scale=True)\n",
    "    results.append(res)\n",
    "results = pd.DataFrame(results)\n",
    "results.columns = [\"Accuracy\"]\n",
    "results.rename(index={0: \"Logistic Regression\", 1: \"Random Forest Classifier\", \n",
    "                      2: \"AdaBoost Classifier\",\n",
    "                      3: \"Gradient Boosting Classifier\"}, inplace=True)\n",
    "results.index.name = \"Ordinal Encoding\" \n",
    "print(results)"
   ]
  },
  {
   "cell_type": "markdown",
   "metadata": {},
   "source": [
    "With label encoding, we obtained similar accuracy scores. We next focus only on gradient boosting classifier and check if reducing the number of features can enhance the accuracy scores of the model. We check both encoding schemes."
   ]
  },
  {
   "cell_type": "markdown",
   "metadata": {},
   "source": [
    "# Feature Selection with Classification\n",
    "\n",
    "To perform feature selection, we again use the filter method with the score function mutual information.\n",
    "\n",
    "We start with one hot encoding."
   ]
  },
  {
   "cell_type": "code",
   "execution_count": 365,
   "metadata": {},
   "outputs": [
    {
     "name": "stdout",
     "output_type": "stream",
     "text": [
      "Number of columns dropped: 200\n",
      "Number of columns dropped: 196\n",
      "Number of columns dropped: 181\n",
      "accuracy [0.66916951]\n"
     ]
    }
   ],
   "source": [
    "result = nested_cv_score(Xtrain_onehot, Ytrain,\n",
    "                          GradientBoostingClassifier(random_state=1),\n",
    "                          [accuracy], scale=True, select=True,\n",
    "                          score_func=mutual_info_classif)\n",
    "print(\"accuracy\", result)"
   ]
  },
  {
   "cell_type": "markdown",
   "metadata": {},
   "source": [
    "The average accuracy is slightly less than what we obtained with one hot encoding using the total number of features (0.674). Let us know check with ordinal encoding."
   ]
  },
  {
   "cell_type": "code",
   "execution_count": 366,
   "metadata": {},
   "outputs": [
    {
     "name": "stdout",
     "output_type": "stream",
     "text": [
      "Number of columns dropped: 17\n",
      "Number of columns dropped: 12\n",
      "Number of columns dropped: 12\n",
      "accuracy [0.67360637]\n"
     ]
    }
   ],
   "source": [
    "result = nested_cv_score(Xtrain_ord, Ytrain,\n",
    "                          GradientBoostingClassifier(random_state=1),\n",
    "                          [accuracy], scale=True, select=True,\n",
    "                          score_func=mutual_info_classif)\n",
    "print(\"accuracy\", result)"
   ]
  },
  {
   "cell_type": "markdown",
   "metadata": {},
   "source": [
    "The accuracy we obtained here is also close to what we obtained with ordinal encoding using the complete number of features. However, since the accuracy is better with ordinal encoding without feature selection, we are going next to focus on this combination (ordinal encoding without feature selection) to fine-tune the gradient boosting classifier."
   ]
  },
  {
   "cell_type": "markdown",
   "metadata": {},
   "source": [
    "# Final Model Tuning\n",
    "\n",
    "After having chosen the combination of label encoding and gradient boosting classifier with no feature selection, we now focus on fine-tuning some of the parameters of the gradient boosting classifier. The parameters are: \"n_estimators\", \"learning_rate\" and \"max_depth\". We start with the first two parameters."
   ]
  },
  {
   "cell_type": "code",
   "execution_count": 368,
   "metadata": {},
   "outputs": [
    {
     "name": "stdout",
     "output_type": "stream",
     "text": [
      "[0.67622298] 500 0.05\n"
     ]
    }
   ],
   "source": [
    "n_est = [100, 250, 500]\n",
    "rates = [0.1, 0.05, 0.01]\n",
    "\n",
    "max_acc = 0\n",
    "for n in n_est:\n",
    "    for r in rates:\n",
    "        model = GradientBoostingClassifier(\n",
    "            random_state=1, n_estimators=n, learning_rate=r)\n",
    "        result = nested_cv_score(Xtrain_ord, Ytrain, model,\n",
    "                          [accuracy], scale=True, select=False)\n",
    "        if(result > max_acc):\n",
    "            max_acc = result\n",
    "            max_n = n\n",
    "            max_r = r\n",
    "print(max_acc, max_n, max_r)"
   ]
  },
  {
   "cell_type": "markdown",
   "metadata": {},
   "source": [
    "We obtain 500 for n_estimators and 0.05 for learning_rate. We now fine-tune the parameter \"max_depth\"."
   ]
  },
  {
   "cell_type": "code",
   "execution_count": 369,
   "metadata": {},
   "outputs": [
    {
     "name": "stdout",
     "output_type": "stream",
     "text": [
      "[0.67622298] 3\n"
     ]
    }
   ],
   "source": [
    "depth = [2,3,4,5,6,7]\n",
    "\n",
    "max_acc = 0\n",
    "for d in depth:\n",
    "    model = GradientBoostingClassifier(random_state=1, n_estimators=max_n, \n",
    "                                       learning_rate=max_r, max_depth=d)\n",
    "    result =  nested_cv_score(Xtrain_ord, Ytrain, model,\n",
    "                              [accuracy], scale=True, select=False)\n",
    "    if(result > max_acc):\n",
    "        max_acc = result\n",
    "        max_d = d\n",
    "        \n",
    "print(max_acc, max_d)"
   ]
  },
  {
   "cell_type": "markdown",
   "metadata": {},
   "source": [
    "We obtain 3 for max_depth. We are now ready to train our final model on the whole training set and check its performance on our testing set."
   ]
  },
  {
   "cell_type": "markdown",
   "metadata": {},
   "source": [
    "# Performance of Final Classification Model\n",
    "\n",
    "To test our final model with its chosen parameters on the testing set, we first pre-process  the whole training set and the test set."
   ]
  },
  {
   "cell_type": "code",
   "execution_count": 379,
   "metadata": {},
   "outputs": [],
   "source": [
    "Xtest_ord = enc_ord.transform(Xtest)\n",
    "scaler = StandardScaler()\n",
    "scaler.fit(Xtrain_ord)\n",
    "Xtrain_f = scaler.transform(Xtrain_ord)\n",
    "Xtest_f = scaler.transform(Xtest_ord)"
   ]
  },
  {
   "cell_type": "markdown",
   "metadata": {},
   "source": [
    "We define the gradient boosting classifier as our final model using the parameters we fine-tuned."
   ]
  },
  {
   "cell_type": "code",
   "execution_count": 380,
   "metadata": {},
   "outputs": [],
   "source": [
    "model_f= GradientBoostingClassifier(random_state=1, n_estimators=max_n, \n",
    "                                       learning_rate=max_r, max_depth=max_d)"
   ]
  },
  {
   "cell_type": "markdown",
   "metadata": {},
   "source": [
    "We fit the model using the whole training set and check its performance on the test set, in terms of accuracy."
   ]
  },
  {
   "cell_type": "code",
   "execution_count": 392,
   "metadata": {},
   "outputs": [
    {
     "name": "stdout",
     "output_type": "stream",
     "text": [
      "Accuracy: 0.6764946764946765\n"
     ]
    }
   ],
   "source": [
    "model_f.fit(Xtrain_f,Ytrain)\n",
    "ypred = model_f.predict(Xtest_f)        \n",
    "print(\"Accuracy:\", accuracy(Ytest, ypred))"
   ]
  },
  {
   "cell_type": "markdown",
   "metadata": {},
   "source": [
    "The accuracy is 67.65%, which is expected (the score is close to the ones we obtained when we have used cross validation on the training set). Let us look at the feature importances provided by the final model. We plot the features importance of the top 10 features."
   ]
  },
  {
   "cell_type": "code",
   "execution_count": 433,
   "metadata": {},
   "outputs": [
    {
     "data": {
      "image/png": "[encoded data removed]",
      "text/plain": [
       "<Figure size 432x288 with 1 Axes>"
      ]
     },
     "metadata": {
      "needs_background": "light"
     },
     "output_type": "display_data"
    }
   ],
   "source": [
    "pd.Series(model_f.feature_importances_,\n",
    "          index=Xtrain_ord.columns).nlargest(10).plot(kind='barh')\n",
    "plt.xlabel(\"Feature Importance\")\n",
    "plt.ylabel(\"Top 10 Features\")\n",
    "plt.show()"
   ]
  },
  {
   "cell_type": "markdown",
   "metadata": {},
   "source": [
    "We see that the most important feature is \"days_between\" which specifies the number of days that were between two consecutive inspections. We also notice that the month of the inspection is another important feature, which suggests the presence of some seasonal impacts that affect the restaurant performance. Moreover, past violations in terms of maximum number of high violations so far detected and the last number of high violations detected at a given restaurant are in the top 10 features, which suggests the importance of historical performance of restaurants. The topics modeled from the reviews (V3 and V4) also contributed to the performance of the final model. The feature \"Restaurants\" specifies if the inspected place is a restaurant or another type of food facility, this indicator represents also an important feature as we have already noticed from visualizing our data."
   ]
  },
  {
   "cell_type": "markdown",
   "metadata": {},
   "source": [
    "To check how the model is performing in predicting the true and negative labels, we plot the confusion matrix and compute the precision and recall scores for each class."
   ]
  },
  {
   "cell_type": "code",
   "execution_count": 393,
   "metadata": {},
   "outputs": [
    {
     "data": {
      "image/png": "[encoded data removed]",
      "text/plain": [
       "<Figure size 432x288 with 2 Axes>"
      ]
     },
     "metadata": {
      "needs_background": "light"
     },
     "output_type": "display_data"
    }
   ],
   "source": [
    "plot_confusion_matrix(model_f, Xtest_f, Ytest, normalize='true')\n",
    "plt.show()"
   ]
  },
  {
   "cell_type": "code",
   "execution_count": 394,
   "metadata": {
    "scrolled": true
   },
   "outputs": [
    {
     "name": "stdout",
     "output_type": "stream",
     "text": [
      "Class: 1 (Fail)\n",
      "Precision: 0.6726330664154498\n",
      "Recall 0.7445255474452555\n"
     ]
    }
   ],
   "source": [
    "print(\"Class: 1 (Fail)\")\n",
    "print(\"Precision:\", precision(Ytest,ypred))\n",
    "print(\"Recall\",recall(Ytest,ypred))"
   ]
  },
  {
   "cell_type": "code",
   "execution_count": 395,
   "metadata": {},
   "outputs": [
    {
     "name": "stdout",
     "output_type": "stream",
     "text": [
      "Class: 0 (Pass)\n",
      "Precision: 0.6818181818181818\n",
      "Recall: 0.6017191977077364\n"
     ]
    }
   ],
   "source": [
    "print(\"Class: 0 (Pass)\")\n",
    "print(\"Precision:\", precision(Ytest,ypred,pos_label=0))\n",
    "print(\"Recall:\",recall(Ytest,ypred,pos_label=0))"
   ]
  },
  {
   "cell_type": "markdown",
   "metadata": {},
   "source": [
    "While the model is able to recall 74% of the failed inspections (recall for class 1: 74%), the precision for class 1 is 67% which represents the ratio of how many of the predicted failed inspections did actually fail. We have two goals for the inspectors: the first goal is to not let them miss inspecting the restaurants that are making serious violations, the second goal is to help the inspectors prioritize their efforts and be efficient in inspecting first the restaurants that will fail. The first goal can be measured by the precision score, while the second goal can be measured by the recall score. With the current information in our data, we were not able to get an accuracy above 67%; this suggests that if we need to get a better accuracy for our model (more instances of both classes correctly classified, more positive instances that are correctly classified enhance the recall score, more negative instances that are correctly classified enhance the precision score), more historical data need to be collected and more information about each restaurant need to specified. For instance, information related to the workers in the restaurants (number of employees, their level of expertise, their culinary background), or information related to the most times at which each restaurant is busy might all be helpful. Also many of the attributes and categories for many of the restaurants were not specified and were left empty, having them specified might also be helpful. Moreover, when we looked at the reviews we noticed that some restaurants did not have reviews for some periods of time, and we also noticed that even if the restaurant is providing satisfactory services for its customers, it can still make violations. Therefore, encouraging  people to leave more reviews that are not only related to the food served but also to the level of cleanness noticed in the restaurants (restrooms, utensils, quality of food served in terms of freshness) can also be helpful."
   ]
  }
 ],
 "metadata": {
  "kernelspec": {
   "display_name": "Python 3",
   "language": "python",
   "name": "python3"
  },
  "language_info": {
   "codemirror_mode": {
    "name": "ipython",
    "version": 3
   },
   "file_extension": ".py",
   "mimetype": "text/x-python",
   "name": "python",
   "nbconvert_exporter": "python",
   "pygments_lexer": "ipython3",
   "version": "3.7.4"
  },
  "toc": {
   "base_numbering": 1,
   "nav_menu": {},
   "number_sections": true,
   "sideBar": true,
   "skip_h1_title": false,
   "title_cell": "Table of Contents",
   "title_sidebar": "Contents",
   "toc_cell": true,
   "toc_position": {},
   "toc_section_display": true,
   "toc_window_display": true
  },
  "varInspector": {
   "cols": {
    "lenName": 16,
    "lenType": 16,
    "lenVar": 40
   },
   "kernels_config": {
    "python": {
     "delete_cmd_postfix": "",
     "delete_cmd_prefix": "del ",
     "library": "var_list.py",
     "varRefreshCmd": "print(var_dic_list())"
    },
    "r": {
     "delete_cmd_postfix": ") ",
     "delete_cmd_prefix": "rm(",
     "library": "var_list.r",
     "varRefreshCmd": "cat(var_dic_list()) "
    }
   },
   "types_to_exclude": [
    "module",
    "function",
    "builtin_function_or_method",
    "instance",
    "_Feature"
   ],
   "window_display": false
  }
 },
 "nbformat": 4,
 "nbformat_minor": 2
}
