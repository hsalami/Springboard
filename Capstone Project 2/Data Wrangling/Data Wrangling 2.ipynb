{
 "cells": [
  {
   "cell_type": "markdown",
   "metadata": {
    "toc": true
   },
   "source": [
    "<h1>Table of Contents<span class=\"tocSkip\"></span></h1>\n",
    "<div class=\"toc\"><ul class=\"toc-item\"><li><span><a href=\"#Load-the-Business-Dataset\" data-toc-modified-id=\"Load-the-Business-Dataset-1\"><span class=\"toc-item-num\">1&nbsp;&nbsp;</span>Load the Business Dataset</a></span></li><li><span><a href='#Exploring-the-\"attributes\"-Column' data-toc-modified-id='Exploring-the-\"attributes\"-Column-2'><span class=\"toc-item-num\">2&nbsp;&nbsp;</span>Exploring the \"attributes\" Column</a></span></li><li><span><a href='#Exploring-the-\"categories\"-Column' data-toc-modified-id='Exploring-the-\"categories\"-Column-3'><span class=\"toc-item-num\">3&nbsp;&nbsp;</span>Exploring the \"categories\" Column</a></span><ul class=\"toc-item\"><li><span><a href='#The-Column-\"cuisine\"' data-toc-modified-id='The-Column-\"cuisine\"-3.1'><span class=\"toc-item-num\">3.1&nbsp;&nbsp;</span>The Column \"cuisine\"</a></span></li><li><span><a href='#The-Column-\"special_food\"' data-toc-modified-id='The-Column-\"special_food\"-3.2'><span class=\"toc-item-num\">3.2&nbsp;&nbsp;</span>The Column \"special_food\"</a></span></li><li><span><a href='#The-Column-\"place\"' data-toc-modified-id='The-Column-\"place\"-3.3'><span class=\"toc-item-num\">3.3&nbsp;&nbsp;</span>The Column \"place\"</a></span></li></ul></li><li><span><a href=\"#Next-Steps\" data-toc-modified-id=\"Next-Steps-4\"><span class=\"toc-item-num\">4&nbsp;&nbsp;</span>Next Steps</a></span></li></ul></div>"
   ]
  },
  {
   "cell_type": "markdown",
   "metadata": {},
   "source": [
    "The business dataset from Yelp associates to each restaurant attributes and categories. We examine here the content of these two columns. We explore the different types of attributes for each restaurant and transform each attribute to one column. We also partition the categories into different classes that we add as columns."
   ]
  },
  {
   "cell_type": "markdown",
   "metadata": {},
   "source": [
    "## Load the Business Dataset"
   ]
  },
  {
   "cell_type": "markdown",
   "metadata": {},
   "source": [
    "We load the Yelp business dataset that consists of the common restaurants in the inspection dataset."
   ]
  },
  {
   "cell_type": "code",
   "execution_count": 1,
   "metadata": {},
   "outputs": [],
   "source": [
    "import pandas as pd\n",
    "bus_to_focus = pd.read_csv('bus_to_focus.csv')"
   ]
  },
  {
   "cell_type": "code",
   "execution_count": 2,
   "metadata": {},
   "outputs": [
    {
     "data": {
      "text/plain": [
       "Index(['Unnamed: 0', 'business_id', 'name', 'address', 'city', 'state',\n",
       "       'postal_code', 'latitude', 'longitude', 'stars', 'review_count',\n",
       "       'is_open', 'attributes', 'categories', 'hours', 'sty', 'id'],\n",
       "      dtype='object')"
      ]
     },
     "execution_count": 2,
     "metadata": {},
     "output_type": "execute_result"
    }
   ],
   "source": [
    "bus_to_focus.columns"
   ]
  },
  {
   "cell_type": "markdown",
   "metadata": {},
   "source": [
    "## Exploring the \"attributes\" Column"
   ]
  },
  {
   "cell_type": "markdown",
   "metadata": {},
   "source": [
    "For each restaurant, a set of attributes is assigned in a dictionary-like format. For instance, as shown below, these attributes specify the ambience, price range and business parking of the restaurants. "
   ]
  },
  {
   "cell_type": "code",
   "execution_count": 3,
   "metadata": {},
   "outputs": [
    {
     "name": "stdout",
     "output_type": "stream",
     "text": [
      "{'CoatCheck': 'False', 'BusinessParking': \"{'garage': False, 'street': True, 'validated': False, 'lot': False, 'valet': False}\", 'HappyHour': 'True', 'Smoking': \"u'no'\", 'WiFi': \"u'free'\", 'RestaurantsTableService': 'False', 'RestaurantsDelivery': 'False', 'Alcohol': \"u'full_bar'\", 'RestaurantsPriceRange2': '2', 'HasTV': 'False', 'Caters': 'True', 'Music': \"{'dj': False, 'background_music': True, 'jukebox': False, 'live': False, 'video': False, 'karaoke': False}\", 'RestaurantsTakeOut': 'True', 'BestNights': \"{'monday': False, 'tuesday': False, 'friday': True, 'wednesday': True, 'thursday': True, 'sunday': False, 'saturday': False}\", 'WheelchairAccessible': 'True', 'BusinessAcceptsCreditCards': 'True', 'GoodForKids': 'False', 'BusinessAcceptsBitcoin': 'False', 'GoodForDancing': 'False', 'BikeParking': 'True', 'RestaurantsAttire': \"u'casual'\", 'RestaurantsGoodForGroups': 'True', 'NoiseLevel': \"u'average'\", 'RestaurantsReservations': 'False', 'Ambience': \"{'romantic': False, 'intimate': False, 'classy': False, 'hipster': True, 'divey': False, 'touristy': False, 'trendy': False, 'upscale': False, 'casual': True}\", 'GoodForMeal': \"{'dessert': False, 'latenight': False, 'lunch': False, 'dinner': True, 'brunch': False, 'breakfast': False}\", 'OutdoorSeating': 'False'}\n"
     ]
    }
   ],
   "source": [
    "print(bus_to_focus.attributes.iloc[0])"
   ]
  },
  {
   "cell_type": "markdown",
   "metadata": {},
   "source": [
    "Note that these attributes vary with each restaurant. Now, we transform each of these attributes into one column in the same data frame."
   ]
  },
  {
   "cell_type": "code",
   "execution_count": 4,
   "metadata": {},
   "outputs": [
    {
     "name": "stderr",
     "output_type": "stream",
     "text": [
      "C:\\Users\\User\\Anaconda3\\lib\\site-packages\\ipykernel_launcher.py:9: FutureWarning: Sorting because non-concatenation axis is not aligned. A future version\n",
      "of pandas will change to not sort by default.\n",
      "\n",
      "To accept the future behavior, pass 'sort=False'.\n",
      "\n",
      "To retain the current behavior and silence the warning, pass 'sort=True'.\n",
      "\n",
      "  if __name__ == '__main__':\n"
     ]
    }
   ],
   "source": [
    "df = pd.DataFrame ()\n",
    "for index, row in bus_to_focus.iterrows():\n",
    "    row_f = pd.DataFrame()\n",
    "    try:\n",
    "        row_f = pd.Series(eval(bus_to_focus.loc[index,'attributes'])).to_frame().T\n",
    "        row_f['business_id'] = bus_to_focus.loc[index,'business_id']\n",
    "    except:\n",
    "        pass\n",
    "    df = pd.concat([df,row_f])\n",
    "\n",
    "bus_to_focus = bus_to_focus.merge(df, on='business_id', how='left')"
   ]
  },
  {
   "cell_type": "markdown",
   "metadata": {},
   "source": [
    "We now have additional columns in the business dataframe, which consist of the attributes provided by Yelp business dataset."
   ]
  },
  {
   "cell_type": "code",
   "execution_count": 5,
   "metadata": {},
   "outputs": [
    {
     "data": {
      "text/plain": [
       "(2557, 53)"
      ]
     },
     "execution_count": 5,
     "metadata": {},
     "output_type": "execute_result"
    }
   ],
   "source": [
    "bus_to_focus.shape"
   ]
  },
  {
   "cell_type": "code",
   "execution_count": 6,
   "metadata": {},
   "outputs": [
    {
     "data": {
      "text/plain": [
       "Index(['Unnamed: 0', 'business_id', 'name', 'address', 'city', 'state',\n",
       "       'postal_code', 'latitude', 'longitude', 'stars', 'review_count',\n",
       "       'is_open', 'attributes', 'categories', 'hours', 'sty', 'id',\n",
       "       'AcceptsInsurance', 'AgesAllowed', 'Alcohol', 'Ambience', 'BYOB',\n",
       "       'BYOBCorkage', 'BestNights', 'BikeParking', 'BusinessAcceptsBitcoin',\n",
       "       'BusinessAcceptsCreditCards', 'BusinessParking', 'ByAppointmentOnly',\n",
       "       'Caters', 'CoatCheck', 'Corkage', 'DogsAllowed', 'DriveThru',\n",
       "       'GoodForDancing', 'GoodForKids', 'GoodForMeal', 'HappyHour', 'HasTV',\n",
       "       'Music', 'NoiseLevel', 'Open24Hours', 'OutdoorSeating',\n",
       "       'RestaurantsAttire', 'RestaurantsDelivery', 'RestaurantsGoodForGroups',\n",
       "       'RestaurantsPriceRange2', 'RestaurantsReservations',\n",
       "       'RestaurantsTableService', 'RestaurantsTakeOut', 'Smoking',\n",
       "       'WheelchairAccessible', 'WiFi'],\n",
       "      dtype='object')"
      ]
     },
     "execution_count": 6,
     "metadata": {},
     "output_type": "execute_result"
    }
   ],
   "source": [
    "bus_to_focus.columns"
   ]
  },
  {
   "cell_type": "markdown",
   "metadata": {},
   "source": [
    "Since these attributes are not all mentioned for all restaurants, some of these columns are mostly empty, which we are going to drop."
   ]
  },
  {
   "cell_type": "code",
   "execution_count": 7,
   "metadata": {},
   "outputs": [
    {
     "name": "stdout",
     "output_type": "stream",
     "text": [
      "AcceptsInsurance : 2553\n",
      "AgesAllowed : 2555\n",
      "Alcohol : 959\n",
      "Ambience : 955\n",
      "BYOB : 2555\n",
      "BYOBCorkage : 2499\n",
      "BestNights : 2405\n",
      "BikeParking : 598\n",
      "BusinessAcceptsBitcoin : 2289\n",
      "BusinessAcceptsCreditCards : 180\n",
      "BusinessParking : 416\n",
      "ByAppointmentOnly : 2494\n",
      "Caters : 1091\n",
      "CoatCheck : 2416\n",
      "Corkage : 2535\n",
      "DogsAllowed : 2380\n",
      "DriveThru : 2484\n",
      "GoodForDancing : 2377\n",
      "GoodForKids : 875\n",
      "GoodForMeal : 1490\n",
      "HappyHour : 2345\n",
      "HasTV : 940\n",
      "Music : 2332\n",
      "NoiseLevel : 1076\n",
      "Open24Hours : 2556\n",
      "OutdoorSeating : 833\n",
      "RestaurantsAttire : 990\n",
      "RestaurantsDelivery : 828\n",
      "RestaurantsGoodForGroups : 834\n",
      "RestaurantsPriceRange2 : 317\n",
      "RestaurantsReservations : 838\n",
      "RestaurantsTableService : 2016\n",
      "RestaurantsTakeOut : 503\n",
      "Smoking : 2440\n",
      "WheelchairAccessible : 2200\n",
      "WiFi : 974\n"
     ]
    }
   ],
   "source": [
    "# attributes \n",
    "cols = ['AcceptsInsurance', 'AgesAllowed', 'Alcohol', 'Ambience', 'BYOB',\n",
    "       'BYOBCorkage', 'BestNights', 'BikeParking', 'BusinessAcceptsBitcoin',\n",
    "       'BusinessAcceptsCreditCards', 'BusinessParking', 'ByAppointmentOnly',\n",
    "       'Caters', 'CoatCheck', 'Corkage', 'DogsAllowed', 'DriveThru',\n",
    "       'GoodForDancing', 'GoodForKids', 'GoodForMeal', 'HappyHour', 'HasTV',\n",
    "       'Music', 'NoiseLevel', 'Open24Hours', 'OutdoorSeating',\n",
    "       'RestaurantsAttire', 'RestaurantsDelivery', 'RestaurantsGoodForGroups',\n",
    "       'RestaurantsPriceRange2', 'RestaurantsReservations',\n",
    "       'RestaurantsTableService', 'RestaurantsTakeOut', 'Smoking',\n",
    "       'WheelchairAccessible', 'WiFi']\n",
    "\n",
    "# check how many entries are empty for each attribute\n",
    "for col in cols:\n",
    "    num = bus_to_focus[col].isnull().sum()\n",
    "    print(col,':',num)"
   ]
  },
  {
   "cell_type": "markdown",
   "metadata": {},
   "source": [
    "We now drop the attributes that are mostly empty."
   ]
  },
  {
   "cell_type": "code",
   "execution_count": 8,
   "metadata": {},
   "outputs": [],
   "source": [
    "for col in cols:\n",
    "    num = bus_to_focus[col].isnull().sum()\n",
    "    if (num>1000):\n",
    "        bus_to_focus = bus_to_focus.drop(columns=col)"
   ]
  },
  {
   "cell_type": "code",
   "execution_count": 9,
   "metadata": {},
   "outputs": [
    {
     "data": {
      "text/plain": [
       "Index(['Unnamed: 0', 'business_id', 'name', 'address', 'city', 'state',\n",
       "       'postal_code', 'latitude', 'longitude', 'stars', 'review_count',\n",
       "       'is_open', 'attributes', 'categories', 'hours', 'sty', 'id', 'Alcohol',\n",
       "       'Ambience', 'BikeParking', 'BusinessAcceptsCreditCards',\n",
       "       'BusinessParking', 'GoodForKids', 'HasTV', 'OutdoorSeating',\n",
       "       'RestaurantsAttire', 'RestaurantsDelivery', 'RestaurantsGoodForGroups',\n",
       "       'RestaurantsPriceRange2', 'RestaurantsReservations',\n",
       "       'RestaurantsTakeOut', 'WiFi'],\n",
       "      dtype='object')"
      ]
     },
     "execution_count": 9,
     "metadata": {},
     "output_type": "execute_result"
    }
   ],
   "source": [
    "bus_to_focus.columns"
   ]
  },
  {
   "cell_type": "markdown",
   "metadata": {},
   "source": [
    "For the remaining empty entries, we fill them as \"unknown\". "
   ]
  },
  {
   "cell_type": "code",
   "execution_count": 10,
   "metadata": {},
   "outputs": [],
   "source": [
    "bus_to_focus = bus_to_focus.fillna('unknown')"
   ]
  },
  {
   "cell_type": "markdown",
   "metadata": {},
   "source": [
    "## Exploring the \"categories\" Column"
   ]
  },
  {
   "cell_type": "markdown",
   "metadata": {},
   "source": [
    "The \"categories\" column specifies some characteristics of the place, as well as the type of cuisine or any specific foods served. These categories are entered as a sequence of words for each restaurant, as shown below. We are going next to extract from this column three columns: \"place\", \"cuisine\", \"special_food\". The column \"place\" will have some characteristics of the place, the column \"cuisine\" will specify what type of cuisine is served and the column \"special_food\" includes if the restaurant serves any specific food."
   ]
  },
  {
   "cell_type": "code",
   "execution_count": 11,
   "metadata": {},
   "outputs": [
    {
     "data": {
      "text/plain": [
       "'Bagels, Donuts, Coffee & Tea, Breakfast & Brunch, Restaurants, Food'"
      ]
     },
     "execution_count": 11,
     "metadata": {},
     "output_type": "execute_result"
    }
   ],
   "source": [
    "bus_to_focus.categories.iloc[16]"
   ]
  },
  {
   "cell_type": "markdown",
   "metadata": {},
   "source": [
    "### The Column \"cuisine\"\n",
    "\n",
    "We extract the types of cuisine served by the restaurants and partition them into the following classes:\n",
    "American, Italian, French, Mediterranean, Spanish, European, Mexican, Latin American, African, Caribbean, Southern, Japanese, Chinese, E Asian (East Asian), SE Asian (South East Asian), N/C Asian (North and Central Asian), Indian, Australian. Since a restaurant can serve multiple cuisines, we enter the types of cuisine served as \"set\"."
   ]
  },
  {
   "cell_type": "code",
   "execution_count": 12,
   "metadata": {},
   "outputs": [],
   "source": [
    "import re\n",
    "for index, row in bus_to_focus.iterrows():\n",
    "    lists = str(row[\"categories\"]).split(\", \")\n",
    "    cuisine = set()\n",
    "    for ele in lists:\n",
    "        if ((\"American\" in ele) & (\"Latin American\" not in ele)):\n",
    "            cuisine.add(\"American\")\n",
    "        if (re.search((\"Italian|Sicilian\"),ele)):\n",
    "            cuisine.add(\"Italian\")\n",
    "        if ((\"French\") in ele):\n",
    "            cuisine.add(\"French\")\n",
    "        if (re.search(\n",
    "            (\"Lebanese|Middle Eastern|Greek|Turkish|Syrian|Armenian|Mediterranean|Morrocan\"),ele)):\n",
    "            cuisine.add(\"Mediterranean\")\n",
    "        if re.search((\"Portuguese|Basque|Spanish|Iberian\"),ele):\n",
    "            cuisine.add(\"Spanish\")\n",
    "        if (re.search((\"European|Polish|Modern European|Irish|German|British|Belgian\"),ele)):\n",
    "            cuisine.add(\"European\")\n",
    "        if re.search((\"Mexican|Tex-Mex\"),ele):\n",
    "            cuisine.add(\"Mexican\")\n",
    "        if re.search((\"Latin American|Venezuelan|Argentine|Peruvian|Brazilian|Colombian\"),ele):\n",
    "            cuisine.add(\"Latin American\")\n",
    "        if re.search((\"African|Ethiopian\"), ele):\n",
    "            cuisine.add(\"African\")\n",
    "        if re.search((\"Caribbean|Cuban\"),ele):\n",
    "            cuisine.add(\"Caribbean\")\n",
    "        if re.search((\"Southern|Soul Food|Cajun|Creole\"), ele):\n",
    "            cuisine.add(\"Southern\")\n",
    "        if re.search((\"Japanese|Izakaya|Teppanyaki\"), ele):\n",
    "            cuisine.add(\"Japanese\")\n",
    "        if re.search((\"Chinese|Szechuan|Cantonese\"), ele):\n",
    "            cuisine.add(\"Chinese\")\n",
    "        if re.search((\"Indian|Pakistani|Bangladeshi|Nepalese\"), ele):\n",
    "            cuisine.add(\"Indian\")\n",
    "        if re.search((\"Thai|Korean|Vietnamese|Ramen|Taiwanese|Pan Asian|Asian Fusion\"), ele):\n",
    "            cuisine.add(\"E Asian\")\n",
    "        if re.search((\"Uzbek|Russian|Mongolian\"), ele):\n",
    "            cuisine.add(\"N/C Asian\")\n",
    "        if re.search((\"Cambodian, Singaporian, Malayasian, Burmese, Laotian\"), ele):\n",
    "            cuisine.add(\"SE Asian\")\n",
    "        if (\"Australian\" in ele):\n",
    "            cuisine.add(\"Australian\")\n",
    "    #print(cuisine)\n",
    "    bus_to_focus.at[index,'cuisine'] = cuisine"
   ]
  },
  {
   "cell_type": "markdown",
   "metadata": {},
   "source": [
    "### The Column \"special_food\"\n",
    "\n",
    "We extract what types of special food served by the restaurants and partition them into the following classes:\n",
    "Pizza, Fast/Fried Foods, Burgers, Desserts, Bagels/Pretzels, Gelato, Seafood, BBQ, Steaks, Vegetarian, Vegan, Gluten-Free, Noodles, Tacos, Sandwiches, Sushi, Kosher, Fruit/Veg and other."
   ]
  },
  {
   "cell_type": "code",
   "execution_count": 13,
   "metadata": {},
   "outputs": [],
   "source": [
    "for index, row in bus_to_focus.iterrows():\n",
    "    lists = str(row[\"categories\"]).split(\", \")\n",
    "    food = set()\n",
    "    for ele in lists:\n",
    "        if (\"Pizza\" in ele):\n",
    "            food.add(\"Pizza\")\n",
    "        if (re.search((\"Fast Food|Fish & Chips|Chicken Wings|Hot Dogs\"),ele)):\n",
    "            food.add(\"Fast/Fried Foods\")\n",
    "        if ((\"Burgers\") in ele):\n",
    "            food.add(\"Burgers\")\n",
    "        if (re.search(\n",
    "            (\"Desserts|Cupcakes|Custom Cakes|Creperies|Waffles|Fondue\"),ele)):\n",
    "            food.add(\"Dessertd\")\n",
    "        if re.search((\"Bagels|Pretzels|Donuts\"),ele):\n",
    "            food.add(\"Bagels/Pretzels\")\n",
    "        if (re.search((\"Gelato|Ice Cream\"),ele)):\n",
    "            food.add(\"Gelato\")\n",
    "        if re.search((\"Seafood\"),ele):\n",
    "            food.add(\"Seafood\")\n",
    "        if re.search((\"Barbeque|Smokehouse|BBQ\"),ele):\n",
    "            food.add(\"BBQ\")\n",
    "        if re.search((\"Steak|Steakhouses|Cheesesteaks\"), ele):\n",
    "            food.add(\"Steaks\")\n",
    "        if \"Vegetarian\" in ele:\n",
    "            food.add(\"Vegetarian\")\n",
    "        if \"Vegan\" in ele:\n",
    "            food.add(\"Vegan\")\n",
    "        if \"Gluten-Free\" in ele:\n",
    "            food.add(\"Gluten-Free\")\n",
    "        if \"Noodles\" in ele:\n",
    "            food.add(\"Noodles\")\n",
    "        if re.search((\"Tacos, Empanadas\"), ele):\n",
    "            food.add(\"Tacos\")\n",
    "        if re.search((\"Sandwiches|Wraps\"), ele):\n",
    "            food.add(\"Sandwiches\")\n",
    "        if re.search((\"Kosher|Halal\"), ele):\n",
    "            food.add(\"Kosher\")\n",
    "        if re.search((\"Sushi|Raw|Poke\"), ele):\n",
    "            food.add(\"Sushi\")\n",
    "        if re.search((\"Salad|Fruit & Veggies|Juice|Smoothies|Acai Bowls\"), ele):\n",
    "            food.add(\"Fruit/Veg\")\n",
    "        if (\"Specialty Food\" in ele):\n",
    "            food.add(\"Other\")\n",
    "    \n",
    "    bus_to_focus.at[index,'special_food'] = food"
   ]
  },
  {
   "cell_type": "markdown",
   "metadata": {},
   "source": [
    "### The Column \"place\""
   ]
  },
  {
   "cell_type": "markdown",
   "metadata": {},
   "source": [
    "We finally add the column \"place\" that specifies the characteristics of the place that we partition into the following classes:\n",
    "Restaurants, Mobile, Convenience Store, Grocery Store, Food Shop, Bakeries, Coffee Place, Other Goods (i.e., the places sells other products that are not food), Shopping, Services (i.e., if the place provides other types of services that are different than preparing foods), Entertainment/Event Place, Fitness/Sport Place, Teaching/School Place, Religious Place, Health & Medical Place, Pubs/Bars and Liquor Manufacturing."
   ]
  },
  {
   "cell_type": "code",
   "execution_count": 14,
   "metadata": {},
   "outputs": [],
   "source": [
    "bus_to_focus['place'] = \"\"\n",
    "bus_to_focus['place'] = bus_to_focus['place'].astype(object)\n",
    "for index, row in bus_to_focus.iterrows():\n",
    "    lists = str(row[\"categories\"]).split(\", \")\n",
    "    place = set()\n",
    "    for ele in lists:\n",
    "        if re.search(\"Restaurants|Bistros|Cafes|Cafeteria\", ele):\n",
    "            place.add(\"Restaurants\")\n",
    "        if re.search(\"Trucks|Vendors|Stands\", ele):\n",
    "            place.add(\"Mobile\")\n",
    "        if re.search(\"Convenience|Gas Stations\", ele):\n",
    "            place.add(\"Convenience Store\")\n",
    "        if re.search(\"Grocery|Health Markets|Organic Stores|Farmers Market\", ele):\n",
    "            place.add(\"Grocery Store\")\n",
    "        if re.search(\"Sea food Markets|Meat|Chicken|Cheese|Pasta|Beverage|Candy|Chocolatiers|Popcorn|Imported|Banks|Delis|Delicatessen|Butcher\", ele):\n",
    "            place.add(\"Food Shop\")\n",
    "        if re.search(\"Patisserie|Bakeries\", ele):\n",
    "            place.add(\"Bakeries\")\n",
    "        if re.search(\"Coffee|Tea\", ele):\n",
    "            place.add(\"Coffee Place\")\n",
    "        if re.search(\"Equipment|Supplies|Supply|Drugstores|Discount|Department|Home|Garden|Flower|Gift|Florist|Furniture|Hobby|Wholesale|Tobacco|Gear|Phones|Electronics|Toy|Paint|DVD|Antique|Bikes|Pet|Vitamins|Appliance|Thrift|Book|Goods|Bird|Glass|Skate|Tires|Mattresses|Rugs|Vintage|Automotive|Computer|Mag|Newspapers\", ele):\n",
    "            place.add(\"Other Goods\")\n",
    "        if re.search(\"Shopping|Fashion|Clothing|Wear|Shoe\", ele):\n",
    "            place.add(\"Shopping\")\n",
    "        if re.search(\"Service|Planning|Repair|Rental|Sewing|Sales|Design|Storage|Wash|Hotels|Dealers|Electricians|Dietitians|Nutritionists|Gardeners\", ele):\n",
    "            place.add(\"Services\")\n",
    "        if re.search(\"Entertainment|Venue|Dance|Karaoke|Cinema|Golf|Bowling|Performing|Galleries|Activities|Skating|Pool|Camps|Park|Stadium|Comedy|Leisure|Jazz|Social|Theater|Playcentre|Tours|Botanical|Beaches|Vinyl\", ele):\n",
    "            place.add(\"Entertainment/Event Place\")\n",
    "        if re.search(\"Active Life|GymYoga|Sports|Fitness|Cycling|Boxing|Barre|Cardio,Tennis|Soccer|Climbing|Biking\", ele):\n",
    "            place.add(\"Fitness/Sport Place\")\n",
    "        if re.search(\"Education|Child Care|Preschool|Schools|Colleges|BootCamps|Art Classes\", ele):\n",
    "            place.add(\"Teaching/School Place\")\n",
    "        if re.search(\"Religious|Churches|Synagogues\", ele):\n",
    "            place.add(\"Religious Place\")\n",
    "        if re.search(\"Health & Medical|Hospitals|Pharmancy|Health Care|Mental Health|Medical|Weight|Therapy\", ele):\n",
    "            place.add(\"Health & Medical Place\")\n",
    "        if (re.search(\"Nightlife|Bars|Beer|Wine|Gastropubs|Brewpubs|Whiskey|Pub|Champagne|Speakeasies\", ele)):\n",
    "            if ((\"Sushi\" not in ele) & (\"Juice\" not in ele)):\n",
    "                place.add(\"Pub/Bars\")\n",
    "        if re.search(\"Wineries|Cideries|Distilleries|Breweries\", ele):\n",
    "            place.add(\"Liquor Manufacturing\")\n",
    "\n",
    "    bus_to_focus.at[index, \"place\"] = place"
   ]
  },
  {
   "cell_type": "markdown",
   "metadata": {},
   "source": [
    "## Next Steps\n",
    "\n",
    "We next explore how the information of the restaurants is associated with the type of violations detected during inspection of the restaurants.\n",
    "\n",
    "In particular, we examine if there is association between the cuisine, the types of foods, or the characteristics (or description) of the place and the types of violations. We also examine in which neighborhood or areas, violations occur more and how the number of each type of violation is evolving across time and seasons. We also check if the age, price range and the number of stars of the restaurant can be associated to the type of violations detected. \n",
    "\n",
    "We will also examine the reviews that were available before each inspection to check for any words or phrases that could indicate any possible violations.\n",
    "\n",
    "The idea is to collect all possible information about each restaurant that could indicate which restaurants are more likely to make a violation, so that health inspectors can prioritize their inspection efforts."
   ]
  },
  {
   "cell_type": "code",
   "execution_count": null,
   "metadata": {},
   "outputs": [],
   "source": []
  }
 ],
 "metadata": {
  "kernelspec": {
   "display_name": "Python 3",
   "language": "python",
   "name": "python3"
  },
  "language_info": {
   "codemirror_mode": {
    "name": "ipython",
    "version": 3
   },
   "file_extension": ".py",
   "mimetype": "text/x-python",
   "name": "python",
   "nbconvert_exporter": "python",
   "pygments_lexer": "ipython3",
   "version": "3.7.4"
  },
  "toc": {
   "base_numbering": 1,
   "nav_menu": {},
   "number_sections": true,
   "sideBar": true,
   "skip_h1_title": false,
   "title_cell": "Table of Contents",
   "title_sidebar": "Contents",
   "toc_cell": true,
   "toc_position": {},
   "toc_section_display": true,
   "toc_window_display": true
  },
  "varInspector": {
   "cols": {
    "lenName": 16,
    "lenType": 16,
    "lenVar": 40
   },
   "kernels_config": {
    "python": {
     "delete_cmd_postfix": "",
     "delete_cmd_prefix": "del ",
     "library": "var_list.py",
     "varRefreshCmd": "print(var_dic_list())"
    },
    "r": {
     "delete_cmd_postfix": ") ",
     "delete_cmd_prefix": "rm(",
     "library": "var_list.r",
     "varRefreshCmd": "cat(var_dic_list()) "
    }
   },
   "types_to_exclude": [
    "module",
    "function",
    "builtin_function_or_method",
    "instance",
    "_Feature"
   ],
   "window_display": false
  }
 },
 "nbformat": 4,
 "nbformat_minor": 2
}
