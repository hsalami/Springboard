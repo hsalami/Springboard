{
 "cells": [
  {
   "cell_type": "markdown",
   "metadata": {
    "toc": true
   },
   "source": [
    "<h1>Table of Contents<span class=\"tocSkip\"></span></h1>\n",
    "<div class=\"toc\"><ul class=\"toc-item\"><li><span><a href=\"#Overview\" data-toc-modified-id=\"Overview-1\"><span class=\"toc-item-num\">1&nbsp;&nbsp;</span>Overview</a></span></li><li><span><a href=\"#Contingency-Table-Chi-Square-Test\" data-toc-modified-id=\"Contingency-Table-Chi-Square-Test-2\"><span class=\"toc-item-num\">2&nbsp;&nbsp;</span>Contingency Table Chi-Square Test</a></span></li><li><span><a href=\"#Importing-Modules-and-Defining-Functions\" data-toc-modified-id=\"Importing-Modules-and-Defining-Functions-3\"><span class=\"toc-item-num\">3&nbsp;&nbsp;</span>Importing Modules and Defining Functions</a></span></li><li><span><a href=\"#Inferential-Statistics-on-the-Features-of-the-Data\" data-toc-modified-id=\"Inferential-Statistics-on-the-Features-of-the-Data-4\"><span class=\"toc-item-num\">4&nbsp;&nbsp;</span>Inferential Statistics on the Features of the Data</a></span><ul class=\"toc-item\"><li><span><a href=\"#Posted-Speed-Limit\" data-toc-modified-id=\"Posted-Speed-Limit-4.1\"><span class=\"toc-item-num\">4.1&nbsp;&nbsp;</span>Posted Speed Limit</a></span></li><li><span><a href=\"#Remaining-Features\" data-toc-modified-id=\"Remaining-Features-4.2\"><span class=\"toc-item-num\">4.2&nbsp;&nbsp;</span>Remaining Features</a></span></li></ul></li></ul></div>"
   ]
  },
  {
   "cell_type": "markdown",
   "metadata": {},
   "source": [
    "# Overview\n",
    "\n",
    "We have so far visualized how each type of crashes (injury and no injury) distributes across the categories of each crash feature or descriptor. In this report, we statistically explore the contribution of each feature to each crash type. More specifically, we perform the chi-square test to check if each feature has an effect or no on the type of crash. "
   ]
  },
  {
   "cell_type": "markdown",
   "metadata": {},
   "source": [
    "# Contingency Table Chi-Square Test\n",
    "\n",
    "To test whether there is an association or not between each crash feature and the crash type, we use contingency table chi-square test. This test considers the following null and alternate hypotheses:\n",
    "- Null hypothesis $H_0$: A given crash feature has no effect on the crash type;\n",
    "- Alternate hypothesis $H_a$: A given crash feature has an effect on the crash type.\n",
    "\n",
    "Given a specific crash feature, we perform the test by first building a table consisting of the numbers of each crash type observed for each category of the feature. We then compare the observed value of each subgroup with the expected value we could have obtained if the null hypothesis were true. The null hypothesis assumes that the considered crash feature and the crash type are independent. Therefore, under the null hypothesis, the expected value for each category is computed by assuming that the probability of a crash with injury given any category of the feature is the same as the overall probability of a crash with injury, and the probability of a crash with no injury given any category of the feature is the same as the overall probability of a crash with no injury. After having computed the expected ($E_i$) and observed ($O_i$) numbers of crashes for each subgroup, we compute the following statistic $\\sum_i\\frac{(O_i-E_i)^2}{E_i}$, which follows a chi-square distribution. We then find the probability of obtaining a value for the statistic as extreme as the observed one (p-value). The last two steps (finding the statistic and its p-value) can be performed using the chisquare() function from scipy.stats. If the p-value is small enough, we reject the null hypothesis. We next state the obtained result for each feature, but before we define the functions used in the analysis."
   ]
  },
  {
   "cell_type": "markdown",
   "metadata": {},
   "source": [
    "# Importing Modules and Defining Functions\n",
    "\n",
    "In this section, we first import the required modules."
   ]
  },
  {
   "cell_type": "code",
   "execution_count": 1,
   "metadata": {},
   "outputs": [],
   "source": [
    "import pandas as pd\n",
    "import numpy as np\n",
    "from scipy.stats import chisquare"
   ]
  },
  {
   "cell_type": "markdown",
   "metadata": {},
   "source": [
    "We then define the following two functions: extract_features() and extract_expected(). The first function takes a dataframe and a column name (i.e., feature) and returns a data frame that consists of the count values for each crash type and category of the feature. The rows of the returned dataframe consists of the type of the crash (injury or no injury) and the columns consists of the categories of the considered feature. The first function also returns the total number of crashes with injury and the total number of crashes with no injury. The second function takes as input a dataframe similar to what is returned by the first funciton, and returns a list of the observed values of each cell of the dataframe input and a list of the corresponding expected values we could have observed for each cell if the null hypothesis were true. "
   ]
  },
  {
   "cell_type": "code",
   "execution_count": 2,
   "metadata": {},
   "outputs": [],
   "source": [
    "def extract_feature(df, colname):\n",
    "    injury = crashes[colname][crashes.CRASH_TYPE ==\n",
    "                              \"INJURY AND / OR TOW DUE TO CRASH\"].value_counts()\n",
    "    no_injury = crashes[colname][crashes.CRASH_TYPE !=\n",
    "                                 \"INJURY AND / OR TOW DUE TO CRASH\"].value_counts()\n",
    "\n",
    "    n_injury = sum(injury)\n",
    "    n_no_injury = sum(no_injury)\n",
    "    n_total = n_injury + n_no_injury\n",
    "\n",
    "    no_injury = no_injury.reset_index()\n",
    "    no_injury.columns = [colname, 'Count']\n",
    "    injury = injury.reset_index()\n",
    "    injury.columns = [colname, 'Count']\n",
    "\n",
    "    feature = pd.merge(injury,\n",
    "                       no_injury,\n",
    "                       how='outer',\n",
    "                       on=colname,\n",
    "                       suffixes=('_injury', '_no_injury'))\n",
    "    feature = feature.fillna(0)\n",
    "    feature = feature.set_index(colname).transpose()\n",
    "\n",
    "    return (feature, n_injury, n_no_injury)"
   ]
  },
  {
   "cell_type": "code",
   "execution_count": 3,
   "metadata": {},
   "outputs": [],
   "source": [
    "def extract_expected (df,n_injury, n_no_injury):\n",
    "    f_observed = []\n",
    "    f_expected = []\n",
    "    n_total = n_injury + n_no_injury\n",
    "    for col in df.columns:\n",
    "        f_observed.append(df[col][0])\n",
    "        f_expected.append((n_injury/n_total)*sum(df[col]))\n",
    "    for col in df.columns:\n",
    "        f_observed.append(df[col][1])\n",
    "        f_expected.append((n_no_injury/n_total)*sum(df[col]))\n",
    "        \n",
    "    ddof = len(f_observed) - 1 - (len(df.columns) - 1)\n",
    "    return (f_observed, f_expected, ddof)"
   ]
  },
  {
   "cell_type": "markdown",
   "metadata": {},
   "source": [
    "We now load the data."
   ]
  },
  {
   "cell_type": "code",
   "execution_count": 4,
   "metadata": {},
   "outputs": [],
   "source": [
    "crashes = pd.read_csv(\"crashes.csv\")"
   ]
  },
  {
   "cell_type": "markdown",
   "metadata": {},
   "source": [
    "# Inferential Statistics on the Features of the Data\n",
    "\n",
    "In this section, we perform the chi-square test on each feature of the crashes. We first detail the results for the first feature: posted speed limit to clarify the procedure and then state the results of the remaining features."
   ]
  },
  {
   "cell_type": "markdown",
   "metadata": {},
   "source": [
    "## Posted Speed Limit"
   ]
  },
  {
   "cell_type": "markdown",
   "metadata": {},
   "source": [
    "We first extract the counts for each possible speed limit and for each crash type."
   ]
  },
  {
   "cell_type": "code",
   "execution_count": 5,
   "metadata": {},
   "outputs": [],
   "source": [
    "speed, n_injury, n_no_injury = extract_feature(crashes, \"POSTED_SPEED_LIMIT\")"
   ]
  },
  {
   "cell_type": "code",
   "execution_count": 6,
   "metadata": {},
   "outputs": [
    {
     "data": {
      "text/html": [
       "<div>\n",
       "<style scoped>\n",
       "    .dataframe tbody tr th:only-of-type {\n",
       "        vertical-align: middle;\n",
       "    }\n",
       "\n",
       "    .dataframe tbody tr th {\n",
       "        vertical-align: top;\n",
       "    }\n",
       "\n",
       "    .dataframe thead th {\n",
       "        text-align: right;\n",
       "    }\n",
       "</style>\n",
       "<table border=\"1\" class=\"dataframe\">\n",
       "  <thead>\n",
       "    <tr style=\"text-align: right;\">\n",
       "      <th>POSTED_SPEED_LIMIT</th>\n",
       "      <th>30</th>\n",
       "      <th>35</th>\n",
       "      <th>25</th>\n",
       "      <th>15</th>\n",
       "      <th>20</th>\n",
       "      <th>40</th>\n",
       "      <th>45</th>\n",
       "      <th>55</th>\n",
       "      <th>10</th>\n",
       "      <th>50</th>\n",
       "      <th>60</th>\n",
       "      <th>65</th>\n",
       "      <th>70</th>\n",
       "    </tr>\n",
       "  </thead>\n",
       "  <tbody>\n",
       "    <tr>\n",
       "      <td>Count_injury</td>\n",
       "      <td>57666.0</td>\n",
       "      <td>6990.0</td>\n",
       "      <td>4165.0</td>\n",
       "      <td>3239.0</td>\n",
       "      <td>2184.0</td>\n",
       "      <td>1196.0</td>\n",
       "      <td>680.0</td>\n",
       "      <td>141.0</td>\n",
       "      <td>101.0</td>\n",
       "      <td>10.0</td>\n",
       "      <td>6.0</td>\n",
       "      <td>3.0</td>\n",
       "      <td>1.0</td>\n",
       "    </tr>\n",
       "    <tr>\n",
       "      <td>Count_no_injury</td>\n",
       "      <td>188938.0</td>\n",
       "      <td>15456.0</td>\n",
       "      <td>15119.0</td>\n",
       "      <td>32422.0</td>\n",
       "      <td>8844.0</td>\n",
       "      <td>1882.0</td>\n",
       "      <td>1333.0</td>\n",
       "      <td>516.0</td>\n",
       "      <td>978.0</td>\n",
       "      <td>34.0</td>\n",
       "      <td>7.0</td>\n",
       "      <td>2.0</td>\n",
       "      <td>0.0</td>\n",
       "    </tr>\n",
       "  </tbody>\n",
       "</table>\n",
       "</div>"
      ],
      "text/plain": [
       "POSTED_SPEED_LIMIT        30       35       25       15      20      40  \\\n",
       "Count_injury         57666.0   6990.0   4165.0   3239.0  2184.0  1196.0   \n",
       "Count_no_injury     188938.0  15456.0  15119.0  32422.0  8844.0  1882.0   \n",
       "\n",
       "POSTED_SPEED_LIMIT      45     55     10    50   60   65   70  \n",
       "Count_injury         680.0  141.0  101.0  10.0  6.0  3.0  1.0  \n",
       "Count_no_injury     1333.0  516.0  978.0  34.0  7.0  2.0  0.0  "
      ]
     },
     "execution_count": 6,
     "metadata": {},
     "output_type": "execute_result"
    }
   ],
   "source": [
    "speed"
   ]
  },
  {
   "cell_type": "markdown",
   "metadata": {},
   "source": [
    "This table reflects the observed number of crashes for each subgroup. We want to test the following hypotheses:\n",
    "- Null Hypothesis:  The posted speed limit has no effect on the type of the crash that happened;\n",
    "- Alternate Hypothesis: The posted speed limit has an effect on the type of the crash that happened.\n",
    "\n",
    "As explained above, we first find the expected number of crashes in each cell of the above table under the null hypothesis. For instance, under the null hypothesis (independence between the speed limit and the crash type), the expected number of crashes with injury when the posted speed limit is 30 is computed as follows: \n",
    "$$\\frac{\\text{Total number of crashes with injury}}{\\text{Total number of crashes}} \\times \\text{Total number of crashes at the speed limit 30}$$\n",
    "We perform these calculations for each cell:"
   ]
  },
  {
   "cell_type": "code",
   "execution_count": 7,
   "metadata": {},
   "outputs": [],
   "source": [
    "f_obs, f_exp, ddof = extract_expected(speed, n_injury, n_no_injury)"
   ]
  },
  {
   "cell_type": "markdown",
   "metadata": {},
   "source": [
    "To check the expected values and compare them with the observed ones, we construct a similar table from the epcted values."
   ]
  },
  {
   "cell_type": "code",
   "execution_count": 8,
   "metadata": {},
   "outputs": [
    {
     "data": {
      "text/html": [
       "<div>\n",
       "<style scoped>\n",
       "    .dataframe tbody tr th:only-of-type {\n",
       "        vertical-align: middle;\n",
       "    }\n",
       "\n",
       "    .dataframe tbody tr th {\n",
       "        vertical-align: top;\n",
       "    }\n",
       "\n",
       "    .dataframe thead th {\n",
       "        text-align: right;\n",
       "    }\n",
       "</style>\n",
       "<table border=\"1\" class=\"dataframe\">\n",
       "  <thead>\n",
       "    <tr style=\"text-align: right;\">\n",
       "      <th>POSTED_SPEED_LIMIT</th>\n",
       "      <th>30</th>\n",
       "      <th>35</th>\n",
       "      <th>25</th>\n",
       "      <th>15</th>\n",
       "      <th>20</th>\n",
       "      <th>40</th>\n",
       "      <th>45</th>\n",
       "      <th>55</th>\n",
       "      <th>10</th>\n",
       "      <th>50</th>\n",
       "      <th>60</th>\n",
       "      <th>65</th>\n",
       "      <th>70</th>\n",
       "    </tr>\n",
       "  </thead>\n",
       "  <tbody>\n",
       "    <tr>\n",
       "      <td>Count_injury</td>\n",
       "      <td>55090.349674</td>\n",
       "      <td>5014.346843</td>\n",
       "      <td>4307.968659</td>\n",
       "      <td>7966.525116</td>\n",
       "      <td>2463.611199</td>\n",
       "      <td>687.612919</td>\n",
       "      <td>449.696168</td>\n",
       "      <td>146.771179</td>\n",
       "      <td>241.044295</td>\n",
       "      <td>9.829424</td>\n",
       "      <td>2.904148</td>\n",
       "      <td>1.11698</td>\n",
       "      <td>0.223396</td>\n",
       "    </tr>\n",
       "    <tr>\n",
       "      <td>Count_no_injury</td>\n",
       "      <td>191513.650326</td>\n",
       "      <td>17431.653157</td>\n",
       "      <td>14976.031341</td>\n",
       "      <td>27694.474884</td>\n",
       "      <td>8564.388801</td>\n",
       "      <td>2390.387081</td>\n",
       "      <td>1563.303832</td>\n",
       "      <td>510.228821</td>\n",
       "      <td>837.955705</td>\n",
       "      <td>34.170576</td>\n",
       "      <td>10.095852</td>\n",
       "      <td>3.88302</td>\n",
       "      <td>0.776604</td>\n",
       "    </tr>\n",
       "  </tbody>\n",
       "</table>\n",
       "</div>"
      ],
      "text/plain": [
       "POSTED_SPEED_LIMIT             30            35            25            15  \\\n",
       "Count_injury         55090.349674   5014.346843   4307.968659   7966.525116   \n",
       "Count_no_injury     191513.650326  17431.653157  14976.031341  27694.474884   \n",
       "\n",
       "POSTED_SPEED_LIMIT           20           40           45          55  \\\n",
       "Count_injury        2463.611199   687.612919   449.696168  146.771179   \n",
       "Count_no_injury     8564.388801  2390.387081  1563.303832  510.228821   \n",
       "\n",
       "POSTED_SPEED_LIMIT          10         50         60       65        70  \n",
       "Count_injury        241.044295   9.829424   2.904148  1.11698  0.223396  \n",
       "Count_no_injury     837.955705  34.170576  10.095852  3.88302  0.776604  "
      ]
     },
     "execution_count": 8,
     "metadata": {},
     "output_type": "execute_result"
    }
   ],
   "source": [
    "df_expected = pd.DataFrame(np.reshape(np.array(f_exp),\n",
    "                                      (2, len(speed.columns))))\n",
    "df_expected.columns = speed.columns\n",
    "df_expected.rename(index={0: speed.index[0], 1: speed.index[1]}, inplace=True)\n",
    "df_expected"
   ]
  },
  {
   "cell_type": "markdown",
   "metadata": {},
   "source": [
    "We now compute the statistic and its p-value using the chisqure function."
   ]
  },
  {
   "cell_type": "code",
   "execution_count": 9,
   "metadata": {},
   "outputs": [
    {
     "data": {
      "text/plain": [
       "Power_divergenceResult(statistic=5569.535596244047, pvalue=0.0)"
      ]
     },
     "execution_count": 9,
     "metadata": {},
     "output_type": "execute_result"
    }
   ],
   "source": [
    "chisquare(f_obs, f_exp, ddof)"
   ]
  },
  {
   "cell_type": "markdown",
   "metadata": {},
   "source": [
    "We see that the p-value is very small close to zero and in this case we fail to reject the null hypothesis, i.e, we fail to reject that the posted speed limit has no effect on the type of crash that occurred."
   ]
  },
  {
   "cell_type": "markdown",
   "metadata": {},
   "source": [
    "## Remaining Features\n",
    "\n",
    "We now perform the same test for all remaining features:\n",
    "\n",
    "- Traffic Control Device: "
   ]
  },
  {
   "cell_type": "code",
   "execution_count": 10,
   "metadata": {},
   "outputs": [
    {
     "name": "stdout",
     "output_type": "stream",
     "text": [
      "Power_divergenceResult(statistic=5063.420455233677, pvalue=0.0)\n"
     ]
    }
   ],
   "source": [
    "device, n_injury, n_no_injury = extract_feature(crashes, \"TRAFFIC_CONTROL_DEVICE\")\n",
    "f_obs, f_exp, ddof = extract_expected(device, n_injury, n_no_injury)\n",
    "print(chisquare(f_obs, f_exp, ddof))"
   ]
  },
  {
   "cell_type": "markdown",
   "metadata": {},
   "source": [
    "- Weather Condition:"
   ]
  },
  {
   "cell_type": "code",
   "execution_count": 11,
   "metadata": {},
   "outputs": [
    {
     "name": "stdout",
     "output_type": "stream",
     "text": [
      "Power_divergenceResult(statistic=1119.7261719166079, pvalue=2.103655474949214e-236)\n"
     ]
    }
   ],
   "source": [
    "weather, n_injury, n_no_injury = extract_feature(crashes, \"WEATHER_CONDITION\")\n",
    "f_obs, f_exp, ddof = extract_expected(weather, n_injury, n_no_injury)\n",
    "print(chisquare(f_obs, f_exp, ddof))"
   ]
  },
  {
   "cell_type": "markdown",
   "metadata": {},
   "source": [
    "- Lighting Condition:"
   ]
  },
  {
   "cell_type": "code",
   "execution_count": 12,
   "metadata": {},
   "outputs": [
    {
     "name": "stdout",
     "output_type": "stream",
     "text": [
      "Power_divergenceResult(statistic=6025.154213534629, pvalue=0.0)\n"
     ]
    }
   ],
   "source": [
    "light, n_injury, n_no_injury = extract_feature(crashes, \"LIGHTING_CONDITION\")\n",
    "f_obs, f_exp, ddof = extract_expected(light, n_injury, n_no_injury)\n",
    "print(chisquare(f_obs, f_exp, ddof))"
   ]
  },
  {
   "cell_type": "markdown",
   "metadata": {},
   "source": [
    "- Road Alignment:"
   ]
  },
  {
   "cell_type": "code",
   "execution_count": 13,
   "metadata": {},
   "outputs": [
    {
     "name": "stdout",
     "output_type": "stream",
     "text": [
      "Power_divergenceResult(statistic=1094.0577828746289, pvalue=2.5878585302373544e-234)\n"
     ]
    }
   ],
   "source": [
    "align, n_injury, n_no_injury = extract_feature(crashes, \"ALIGNMENT\")\n",
    "f_obs, f_exp, ddof = extract_expected(align, n_injury, n_no_injury)\n",
    "print(chisquare(f_obs, f_exp, ddof))"
   ]
  },
  {
   "cell_type": "markdown",
   "metadata": {},
   "source": [
    "- Road Condition:"
   ]
  },
  {
   "cell_type": "code",
   "execution_count": 14,
   "metadata": {},
   "outputs": [
    {
     "name": "stdout",
     "output_type": "stream",
     "text": [
      "Power_divergenceResult(statistic=1410.2406494150573, pvalue=4.159226906544088e-304)\n"
     ]
    }
   ],
   "source": [
    "road, n_injury, n_no_injury = extract_feature(crashes, \"ROADWAY_SURFACE_COND\")\n",
    "f_obs, f_exp, ddof = extract_expected(road, n_injury, n_no_injury)\n",
    "print(chisquare(f_obs, f_exp, ddof))"
   ]
  },
  {
   "cell_type": "markdown",
   "metadata": {},
   "source": [
    "- Collision Type:"
   ]
  },
  {
   "cell_type": "code",
   "execution_count": 15,
   "metadata": {},
   "outputs": [
    {
     "name": "stdout",
     "output_type": "stream",
     "text": [
      "Power_divergenceResult(statistic=43081.16185838227, pvalue=0.0)\n"
     ]
    }
   ],
   "source": [
    "collision, n_injury, n_no_injury = extract_feature(crashes, \"FIRST_CRASH_TYPE\")\n",
    "f_obs, f_exp, ddof = extract_expected(collision, n_injury, n_no_injury)\n",
    "print(chisquare(f_obs, f_exp, ddof))"
   ]
  },
  {
   "cell_type": "markdown",
   "metadata": {},
   "source": [
    "- Trafficway Type:"
   ]
  },
  {
   "cell_type": "code",
   "execution_count": 16,
   "metadata": {},
   "outputs": [
    {
     "name": "stdout",
     "output_type": "stream",
     "text": [
      "Power_divergenceResult(statistic=9538.105562426485, pvalue=0.0)\n"
     ]
    }
   ],
   "source": [
    "trafficway, n_injury, n_no_injury = extract_feature(crashes, \"TRAFFICWAY_TYPE\")\n",
    "f_obs, f_exp, ddof = extract_expected(trafficway, n_injury, n_no_injury)\n",
    "print(chisquare(f_obs, f_exp, ddof))"
   ]
  },
  {
   "cell_type": "markdown",
   "metadata": {},
   "source": [
    "- Contributory Cause:"
   ]
  },
  {
   "cell_type": "code",
   "execution_count": 17,
   "metadata": {},
   "outputs": [
    {
     "name": "stdout",
     "output_type": "stream",
     "text": [
      "Power_divergenceResult(statistic=31993.29780516069, pvalue=0.0)\n"
     ]
    }
   ],
   "source": [
    "cause, n_injury, n_no_injury = extract_feature(crashes, \"PRIM_CONTRIBUTORY_CAUSE\")\n",
    "f_obs, f_exp, ddof = extract_expected(cause, n_injury, n_no_injury)\n",
    "print(chisquare(f_obs, f_exp, ddof))"
   ]
  },
  {
   "cell_type": "markdown",
   "metadata": {},
   "source": [
    "- Crash Hour:"
   ]
  },
  {
   "cell_type": "code",
   "execution_count": 18,
   "metadata": {},
   "outputs": [
    {
     "name": "stdout",
     "output_type": "stream",
     "text": [
      "Power_divergenceResult(statistic=6786.549164952034, pvalue=0.0)\n"
     ]
    }
   ],
   "source": [
    "hour, n_injury, n_no_injury = extract_feature(crashes, \"CRASH_HOUR\")\n",
    "f_obs, f_exp, ddof = extract_expected(hour, n_injury, n_no_injury)\n",
    "print(chisquare(f_obs, f_exp, ddof))"
   ]
  },
  {
   "cell_type": "markdown",
   "metadata": {},
   "source": [
    "- Crash Day:"
   ]
  },
  {
   "cell_type": "code",
   "execution_count": 19,
   "metadata": {},
   "outputs": [
    {
     "name": "stdout",
     "output_type": "stream",
     "text": [
      "Power_divergenceResult(statistic=538.5418733470326, pvalue=4.1657452622742266e-113)\n"
     ]
    }
   ],
   "source": [
    "day, n_injury, n_no_injury = extract_feature(crashes, \"CRASH_DAY_OF_WEEK\")\n",
    "f_obs, f_exp, ddof = extract_expected(day, n_injury, n_no_injury)\n",
    "print(chisquare(f_obs, f_exp, ddof))"
   ]
  },
  {
   "cell_type": "markdown",
   "metadata": {},
   "source": [
    "- Crash Month:"
   ]
  },
  {
   "cell_type": "code",
   "execution_count": 20,
   "metadata": {},
   "outputs": [
    {
     "name": "stdout",
     "output_type": "stream",
     "text": [
      "Power_divergenceResult(statistic=182.009548238753, pvalue=3.9430286408476375e-33)\n"
     ]
    }
   ],
   "source": [
    "month, n_injury, n_no_injury = extract_feature(crashes, \"CRASH_MONTH\")\n",
    "f_obs, f_exp, ddof = extract_expected(month, n_injury, n_no_injury)\n",
    "print(chisquare(f_obs, f_exp, ddof))"
   ]
  },
  {
   "cell_type": "markdown",
   "metadata": {},
   "source": [
    "We see that for each feature, the obtained p-value is very low close to zero. Therefore for all of these feature, we reject the null hypothesis, i.e., we reject the hypothesis that each crash feature has no effect on crash type."
   ]
  }
 ],
 "metadata": {
  "kernelspec": {
   "display_name": "Python 3",
   "language": "python",
   "name": "python3"
  },
  "language_info": {
   "codemirror_mode": {
    "name": "ipython",
    "version": 3
   },
   "file_extension": ".py",
   "mimetype": "text/x-python",
   "name": "python",
   "nbconvert_exporter": "python",
   "pygments_lexer": "ipython3",
   "version": "3.7.4"
  },
  "toc": {
   "base_numbering": 1,
   "nav_menu": {},
   "number_sections": true,
   "sideBar": true,
   "skip_h1_title": false,
   "title_cell": "Table of Contents",
   "title_sidebar": "Contents",
   "toc_cell": true,
   "toc_position": {
    "height": "calc(100% - 180px)",
    "left": "10px",
    "top": "150px",
    "width": "165px"
   },
   "toc_section_display": true,
   "toc_window_display": true
  },
  "varInspector": {
   "cols": {
    "lenName": 16,
    "lenType": 16,
    "lenVar": 40
   },
   "kernels_config": {
    "python": {
     "delete_cmd_postfix": "",
     "delete_cmd_prefix": "del ",
     "library": "var_list.py",
     "varRefreshCmd": "print(var_dic_list())"
    },
    "r": {
     "delete_cmd_postfix": ") ",
     "delete_cmd_prefix": "rm(",
     "library": "var_list.r",
     "varRefreshCmd": "cat(var_dic_list()) "
    }
   },
   "types_to_exclude": [
    "module",
    "function",
    "builtin_function_or_method",
    "instance",
    "_Feature"
   ],
   "window_display": false
  }
 },
 "nbformat": 4,
 "nbformat_minor": 2
}
