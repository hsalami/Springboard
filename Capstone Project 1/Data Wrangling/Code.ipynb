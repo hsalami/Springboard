{
 "cells": [
  {
   "cell_type": "code",
   "execution_count": 1,
   "metadata": {},
   "outputs": [],
   "source": [
    "import pandas as pd\n",
    "\n",
    "# A csv file of Chicago crashes was downloaded on September 24, 2019 from \n",
    "# https://data.cityofchicago.org/Transportation/Traffic-Crashes-Crashes/85ca-t3if\n",
    "\n",
    "# Read the file and save the data as crashes dataframe\n",
    "crashes=pd.read_csv('DataCleaning/Traffic_Crashes.csv')"
   ]
  },
  {
   "cell_type": "code",
   "execution_count": 2,
   "metadata": {},
   "outputs": [],
   "source": [
    "# First remove irrelevant or mostly-empty columns\n",
    "\n",
    "crashes=crashes.drop(columns=['CRASH_DATE_EST_I','LANE_CNT','ROAD_DEFECT','REPORT_TYPE', 'INTERSECTION_RELATED_I',\n",
    "                              'NOT_RIGHT_OF_WAY_I','HIT_AND_RUN_I','DATE_POLICE_NOTIFIED','SEC_CONTRIBUTORY_CAUSE',\n",
    "                              'PHOTOS_TAKEN_I','STATEMENTS_TAKEN_I','DOORING_I','WORK_ZONE_I','WORK_ZONE_TYPE', \n",
    "                              'WORKERS_PRESENT_I','LOCATION'])"
   ]
  },
  {
   "cell_type": "code",
   "execution_count": 3,
   "metadata": {},
   "outputs": [],
   "source": [
    "# Posted speed limit\n",
    "# This column contains a lot of inconsistencies, which we try to fix here\n",
    "\n",
    "# check if the location of the crash is a parking lot, alley or driveway, then the speed limit should be 15 mph\n",
    "crashes.loc[crashes.TRAFFICWAY_TYPE.isin(['PARKING LOT','ALLEY','DRIVEWAY']),\n",
    "            'POSTED_SPEED_LIMIT']=15\n",
    "\n",
    "# this is a list of of substrings that are contained in the names of Chicago streets where the speed limit is at least 55 mph\n",
    "list_roads=['SKYWAY','SHORE','95TH','EXPY','XPY','DAN RYAN','XPRS','CICERO','ROOSEVELT','INDIANAPOLIS','IRVING','DAN RYAN',\n",
    "            '98TH PL','FETRIDGE','MANNHEIM','WENTWORTH']            \n",
    "\n",
    "# some posted speed limits are 0, 99 and less than 10 mph which are unreasonable values \n",
    "# find where the speed is unreasonable\n",
    "is_spd_unreasonable=(crashes.POSTED_SPEED_LIMIT<10) | (crashes.POSTED_SPEED_LIMIT==99) \n",
    "\n",
    "# check which street is possibly a highway \n",
    "is_highwy=crashes.STREET_NAME.str.contains(list_roads[0])\n",
    "for road in list_roads[1:]:\n",
    "    is_highwy = is_highwy |(crashes.STREET_NAME.str.contains(road))\n",
    "    \n",
    "# adjust the unreasonable speed to 55mph if it is a highway    \n",
    "crashes.loc[(is_spd_unreasonable & is_highwy),'POSTED_SPEED_LIMIT']=55\n",
    "\n",
    "# otherwise, assume the street as normal one with 30 mph as speed limit\n",
    "crashes.loc[crashes.POSTED_SPEED_LIMIT<10,'POSTED_SPEED_LIMIT']=30\n",
    "crashes.loc[crashes.POSTED_SPEED_LIMIT==99,'POSTED_SPEED_LIMIT']=30\n",
    "\n",
    "# some speed limits were high for normal streets, adjust them here\n",
    "crashes.loc[((~is_highwy) & (crashes.POSTED_SPEED_LIMIT>=50)),'POSTED_SPEED_LIMIT']=30           \n",
    "\n",
    "# regroup the speeds into 15,20,25,30,35,40,45,50,55,60,65 to round up any in between value\n",
    "crashes.loc[(crashes.POSTED_SPEED_LIMIT>10) & (crashes.POSTED_SPEED_LIMIT<15),'POSTED_SPEED_LIMIT']=15\n",
    "crashes.loc[(crashes.POSTED_SPEED_LIMIT>15) & (crashes.POSTED_SPEED_LIMIT<20),'POSTED_SPEED_LIMIT']=20\n",
    "crashes.loc[(crashes.POSTED_SPEED_LIMIT>20) & (crashes.POSTED_SPEED_LIMIT<25),'POSTED_SPEED_LIMIT']=25\n",
    "crashes.loc[(crashes.POSTED_SPEED_LIMIT>25) & (crashes.POSTED_SPEED_LIMIT<30),'POSTED_SPEED_LIMIT']=30\n",
    "crashes.loc[(crashes.POSTED_SPEED_LIMIT>30) & (crashes.POSTED_SPEED_LIMIT<35),'POSTED_SPEED_LIMIT']=35\n",
    "crashes.loc[(crashes.POSTED_SPEED_LIMIT>35) & (crashes.POSTED_SPEED_LIMIT<40),'POSTED_SPEED_LIMIT']=40\n",
    "crashes.loc[(crashes.POSTED_SPEED_LIMIT>40) & (crashes.POSTED_SPEED_LIMIT<45),'POSTED_SPEED_LIMIT']=45\n",
    "crashes.loc[(crashes.POSTED_SPEED_LIMIT>45) & (crashes.POSTED_SPEED_LIMIT<50),'POSTED_SPEED_LIMIT']=50\n",
    "crashes.loc[(crashes.POSTED_SPEED_LIMIT>50) & (crashes.POSTED_SPEED_LIMIT<55),'POSTED_SPEED_LIMIT']=55\n",
    "crashes.loc[(crashes.POSTED_SPEED_LIMIT>55) & (crashes.POSTED_SPEED_LIMIT<60),'POSTED_SPEED_LIMIT']=60\n",
    "crashes.loc[(crashes.POSTED_SPEED_LIMIT>60) & (crashes.POSTED_SPEED_LIMIT<65),'POSTED_SPEED_LIMIT']=65"
   ]
  },
  {
   "cell_type": "code",
   "execution_count": 4,
   "metadata": {},
   "outputs": [
    {
     "name": "stdout",
     "output_type": "stream",
     "text": [
      "10      1079\n",
      "15     35662\n",
      "20     11028\n",
      "25     19284\n",
      "30    246607\n",
      "35     22446\n",
      "40      3078\n",
      "45      2013\n",
      "50        44\n",
      "55       657\n",
      "60        13\n",
      "65         5\n",
      "70         1\n",
      "Name: POSTED_SPEED_LIMIT, dtype: int64\n"
     ]
    }
   ],
   "source": [
    "# Check the entries of speed limit\n",
    "print(crashes.POSTED_SPEED_LIMIT.value_counts().sort_index())"
   ]
  },
  {
   "cell_type": "code",
   "execution_count": 5,
   "metadata": {},
   "outputs": [],
   "source": [
    "# Weather Conditions\n",
    "\n",
    "crashes.CRASH_DATE=pd.to_datetime(crashes.CRASH_DATE)\n",
    "crashes=crashes.set_index('RD_NO')\n",
    "\n",
    "# find wich entries has unknown weather conditions and which entries has known weather conditions\n",
    "is_unknown=(crashes.WEATHER_CONDITION=='UNKNOWN')|(crashes.WEATHER_CONDITION=='OTHER')\n",
    "subset=crashes.loc[is_unknown,['CRASH_DATE','WEATHER_CONDITION']]\n",
    "subset2=crashes.loc[~is_unknown,['CRASH_DATE','WEATHER_CONDITION']]\n",
    "\n",
    "# normalize the date to remove hours\n",
    "subset['DAY']=subset.CRASH_DATE.dt.normalize()\n",
    "subset2['DAY']=subset2.CRASH_DATE.dt.normalize()\n",
    "\n",
    "# build a table with days and the dominant weather condition for each day from the data with known weather conditions\n",
    "d=subset2.groupby('DAY')['WEATHER_CONDITION'].value_counts()\n",
    "d=d.unstack()\n",
    "table=d.idxmax(axis=1)\n",
    "\n",
    "# fill the unknwon weather conditions usign the table that we just created\n",
    "for index,row in subset.iterrows():\n",
    "       if (row['DAY'] in table.keys()):\n",
    "            crashes.at[index,'WEATHER_CONDITION']=table[row['DAY']]"
   ]
  },
  {
   "cell_type": "code",
   "execution_count": 6,
   "metadata": {},
   "outputs": [
    {
     "name": "stdout",
     "output_type": "stream",
     "text": [
      "CLEAR                     285456\n",
      "RAIN                       32222\n",
      "SNOW                       12563\n",
      "CLOUDY/OVERCAST            10336\n",
      "FOG/SMOKE/HAZE               640\n",
      "SLEET/HAIL                   556\n",
      "SEVERE CROSS WIND GATE        75\n",
      "FREEZING RAIN/DRIZZLE         64\n",
      "BLOWING SNOW                   2\n",
      "Name: WEATHER_CONDITION, dtype: int64\n"
     ]
    }
   ],
   "source": [
    "# three entries were left unknow, we remove their corresponding rows\n",
    "still_unknown=(crashes.WEATHER_CONDITION=='UNKNOWN')\n",
    "crashes=crashes.drop(index=crashes.index[still_unknown])\n",
    "\n",
    "print(crashes.WEATHER_CONDITION.value_counts())"
   ]
  },
  {
   "cell_type": "code",
   "execution_count": 7,
   "metadata": {},
   "outputs": [],
   "source": [
    "# Lighting Conditions\n",
    "\n",
    "# define a function that takes the hour and the month of a day and return: dusk, dawn, daylight or darkness accordingly\n",
    "def mapToLight(hour,month):\n",
    "    if ((hour==5 & month in ([8,7,4]))| (hour==4 & month in ([5,6]))|(hour==6 & month in ([1,2,3,9,10,11,12]))):\n",
    "        return 'DAWN'\n",
    "    if ((hour<19 & month in ([8,7,4,3,2,9]))| (hour<20 & month in ([5,6]))\n",
    "        |(hour<18 & month==10)|(hour<16 & month in ([1,11,12]))):\n",
    "        return 'DAYLIGHT'\n",
    "    if ((hour==19 & month in ([8,7,4,3,2,9]))| (hour==20 & month in ([5,6])) \n",
    "        |(hour==16 & month in ([1,12,11]))|(hour==18 & month==10)):\n",
    "        return 'DUSK'\n",
    "    else:\n",
    "        return 'DARKNESS'\n",
    "\n",
    "# fill the unkown entries for ligting condition using the defined function mapToLight\n",
    "noLight= crashes.loc[(crashes.LIGHTING_CONDITION=='UNKNOWN'),['CRASH_HOUR','CRASH_MONTH']]\n",
    "\n",
    "for index,row in noLight.iterrows():\n",
    "    crashes.at[index,'LIGHTING_CONDITION']=mapToLight(row.CRASH_HOUR,row.CRASH_MONTH) "
   ]
  },
  {
   "cell_type": "code",
   "execution_count": 8,
   "metadata": {},
   "outputs": [
    {
     "name": "stdout",
     "output_type": "stream",
     "text": [
      "DAYLIGHT                  227955\n",
      "DARKNESS, LIGHTED ROAD     68927\n",
      "DARKNESS                   28650\n",
      "DUSK                       10471\n",
      "DAWN                        5911\n",
      "Name: LIGHTING_CONDITION, dtype: int64\n"
     ]
    }
   ],
   "source": [
    "print(crashes.LIGHTING_CONDITION.value_counts())"
   ]
  },
  {
   "cell_type": "code",
   "execution_count": 9,
   "metadata": {},
   "outputs": [],
   "source": [
    "# Roadway surface\n",
    "\n",
    "# fill the unkown road surface according to the weather conditions\n",
    "crashes.loc[crashes.ROADWAY_SURFACE_COND.isin(['UNKNOWN','OTHER']) & crashes.WEATHER_CONDITION.isin(['RAIN']),\n",
    "            'ROADWAY_SURFACE_COND']='WET'\n",
    "crashes.loc[crashes.ROADWAY_SURFACE_COND.isin(['UNKNOWN','OTHER']) & crashes.WEATHER_CONDITION.isin(['SNOW']),\n",
    "            'ROADWAY_SURFACE_COND']='SNOW OR SLUSH'\n",
    "crashes.loc[crashes.ROADWAY_SURFACE_COND.isin(['UNKNOWN','OTHER']) & crashes.WEATHER_CONDITION.isin(['FREEZING RAIN/DRIZZLE']),\n",
    "            'ROADWAY_SURFACE_COND']='ICE'\n",
    "crashes.loc[crashes.ROADWAY_SURFACE_COND.isin(['UNKNOWN','OTHER']) & crashes.WEATHER_CONDITION.isin(['SLEET/HAIL']),\n",
    "            'ROADWAY_SURFACE_COND']='SNOW OR SLUSH'\n",
    "crashes.loc[crashes.ROADWAY_SURFACE_COND.isin(['UNKNOWN','OTHER']),\n",
    "            'ROADWAY_SURFACE_COND']='DRY'"
   ]
  },
  {
   "cell_type": "code",
   "execution_count": 10,
   "metadata": {},
   "outputs": [
    {
     "name": "stdout",
     "output_type": "stream",
     "text": [
      "DRY                278571\n",
      "WET                 48263\n",
      "SNOW OR SLUSH       12457\n",
      "ICE                  2448\n",
      "SAND, MUD, DIRT       175\n",
      "Name: ROADWAY_SURFACE_COND, dtype: int64\n"
     ]
    }
   ],
   "source": [
    "print(crashes.ROADWAY_SURFACE_COND.value_counts())"
   ]
  },
  {
   "cell_type": "code",
   "execution_count": 11,
   "metadata": {},
   "outputs": [],
   "source": [
    "#Traffic Control Device\n",
    "\n",
    "# combine the different labels Railroad signs into one category\n",
    "crashes.loc[crashes.TRAFFIC_CONTROL_DEVICE.isin(['RAILROAD CROSSING GATE','OTHER RAILROAD CROSSING','RR CROSSING SIGN']),\n",
    "            'TRAFFIC_CONTROL_DEVICE']='RAILROAD CROSSING SIGN'            \n",
    "\n",
    "# make the columns 'traffic control device' and 'device condition consistent\n",
    "# fill the unknown entries of 'traffic control device' from the column 'device condition'\n",
    "crashes.loc[(crashes.TRAFFIC_CONTROL_DEVICE=='UNKNOWN') & (crashes.DEVICE_CONDITION=='NO CONTROLS'),\n",
    "            'TRAFFIC_CONTROL_DEVICE']='NO CONTROLS'\n",
    "crashes.loc[crashes.TRAFFIC_CONTROL_DEVICE=='NO CONTROLS','DEVICE_CONDITION']='NO CONTROLS'\n",
    "crashes.loc[(crashes.DEVICE_CONDITION=='NO CONTROLS') & (crashes.TRAFFIC_CONTROL_DEVICE!='NO CONTROLS'),\n",
    "            'DEVICE_CONDITION']='FUNCTIONING PROPERLY'\n",
    "crashes.loc[crashes.DEVICE_CONDITION.isin(['UNKNOWN','MISSING']),'DEVICE_CONDITION']='UNKNOWN'"
   ]
  },
  {
   "cell_type": "code",
   "execution_count": 12,
   "metadata": {},
   "outputs": [
    {
     "name": "stdout",
     "output_type": "stream",
     "text": [
      "NO CONTROLS                 197823\n",
      "TRAFFIC SIGNAL               95425\n",
      "STOP SIGN/FLASHER            32972\n",
      "UNKNOWN                      10608\n",
      "OTHER                         1994\n",
      "LANE USE MARKING              1224\n",
      "YIELD                          475\n",
      "RAILROAD CROSSING SIGN         329\n",
      "OTHER REG. SIGN                306\n",
      "OTHER WARNING SIGN             289\n",
      "SCHOOL ZONE                    138\n",
      "POLICE/FLAGMAN                 136\n",
      "DELINEATORS                     82\n",
      "PEDESTRIAN CROSSING SIGN        64\n",
      "FLASHING CONTROL SIGNAL         31\n",
      "NO PASSING                      10\n",
      "BICYCLE CROSSING SIGN            8\n",
      "Name: TRAFFIC_CONTROL_DEVICE, dtype: int64\n"
     ]
    }
   ],
   "source": [
    "print(crashes.TRAFFIC_CONTROL_DEVICE.value_counts())"
   ]
  },
  {
   "cell_type": "code",
   "execution_count": 13,
   "metadata": {},
   "outputs": [
    {
     "name": "stdout",
     "output_type": "stream",
     "text": [
      "NO CONTROLS                 197823\n",
      "FUNCTIONING PROPERLY        123296\n",
      "UNKNOWN                      16122\n",
      "OTHER                         2043\n",
      "FUNCTIONING IMPROPERLY        1861\n",
      "NOT FUNCTIONING                611\n",
      "WORN REFLECTIVE MATERIAL       158\n",
      "Name: DEVICE_CONDITION, dtype: int64\n"
     ]
    }
   ],
   "source": [
    "print(crashes.DEVICE_CONDITION.value_counts())"
   ]
  },
  {
   "cell_type": "code",
   "execution_count": 14,
   "metadata": {},
   "outputs": [],
   "source": [
    "# All remaining columns with unknown entries are left as they are\n",
    "\n",
    "# The last step is to make the column \"m injuryost severe injury\" consistent with \"crash type\" (injury or no inujry)\n",
    "# The entires that are empty for the column \"most severe\" are filled with \"no inidcation of injury\" when the crash type is\n",
    "# no injury\n",
    "crashes.loc[(crashes.MOST_SEVERE_INJURY.isnull()) & (crashes.CRASH_TYPE=='NO INJURY / DRIVE AWAY'),\n",
    "            'MOST_SEVERE_INJURY']='NO INDICATION OF INJURY'"
   ]
  }
 ],
 "metadata": {
  "kernelspec": {
   "display_name": "Python 3",
   "language": "python",
   "name": "python3"
  },
  "language_info": {
   "codemirror_mode": {
    "name": "ipython",
    "version": 3
   },
   "file_extension": ".py",
   "mimetype": "text/x-python",
   "name": "python",
   "nbconvert_exporter": "python",
   "pygments_lexer": "ipython3",
   "version": "3.7.3"
  },
  "toc": {
   "base_numbering": 1,
   "nav_menu": {},
   "number_sections": true,
   "sideBar": true,
   "skip_h1_title": false,
   "title_cell": "Table of Contents",
   "title_sidebar": "Contents",
   "toc_cell": false,
   "toc_position": {},
   "toc_section_display": true,
   "toc_window_display": false
  },
  "varInspector": {
   "cols": {
    "lenName": 16,
    "lenType": 16,
    "lenVar": 40
   },
   "kernels_config": {
    "python": {
     "delete_cmd_postfix": "",
     "delete_cmd_prefix": "del ",
     "library": "var_list.py",
     "varRefreshCmd": "print(var_dic_list())"
    },
    "r": {
     "delete_cmd_postfix": ") ",
     "delete_cmd_prefix": "rm(",
     "library": "var_list.r",
     "varRefreshCmd": "cat(var_dic_list()) "
    }
   },
   "types_to_exclude": [
    "module",
    "function",
    "builtin_function_or_method",
    "instance",
    "_Feature"
   ],
   "window_display": false
  }
 },
 "nbformat": 4,
 "nbformat_minor": 2
}
